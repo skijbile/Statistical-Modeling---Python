{
 "cells": [
  {
   "cell_type": "code",
   "execution_count": 11,
   "metadata": {
    "tags": []
   },
   "outputs": [
    {
     "data": {
      "text/html": [
       "<div>\n",
       "<style scoped>\n",
       "    .dataframe tbody tr th:only-of-type {\n",
       "        vertical-align: middle;\n",
       "    }\n",
       "\n",
       "    .dataframe tbody tr th {\n",
       "        vertical-align: top;\n",
       "    }\n",
       "\n",
       "    .dataframe thead th {\n",
       "        text-align: right;\n",
       "    }\n",
       "</style>\n",
       "<table border=\"1\" class=\"dataframe\">\n",
       "  <thead>\n",
       "    <tr style=\"text-align: right;\">\n",
       "      <th></th>\n",
       "      <th>name</th>\n",
       "      <th>empty_slots</th>\n",
       "      <th>free_bikes</th>\n",
       "      <th>latitude</th>\n",
       "      <th>longitude</th>\n",
       "      <th>timestamp</th>\n",
       "    </tr>\n",
       "  </thead>\n",
       "  <tbody>\n",
       "    <tr>\n",
       "      <th>0</th>\n",
       "      <td>Benjamin Godard - Victor Hugo</td>\n",
       "      <td>34</td>\n",
       "      <td>1</td>\n",
       "      <td>48.865983</td>\n",
       "      <td>2.275725</td>\n",
       "      <td>2023-12-06T02:45:12.426000Z</td>\n",
       "    </tr>\n",
       "    <tr>\n",
       "      <th>1</th>\n",
       "      <td>André Mazet - Saint-André des Arts</td>\n",
       "      <td>29</td>\n",
       "      <td>26</td>\n",
       "      <td>48.853756</td>\n",
       "      <td>2.339096</td>\n",
       "      <td>2023-12-06T02:45:12.322000Z</td>\n",
       "    </tr>\n",
       "    <tr>\n",
       "      <th>2</th>\n",
       "      <td>Faubourg Du Temple - Republique</td>\n",
       "      <td>31</td>\n",
       "      <td>5</td>\n",
       "      <td>48.867872</td>\n",
       "      <td>2.364898</td>\n",
       "      <td>2023-12-06T02:45:09.480000Z</td>\n",
       "    </tr>\n",
       "    <tr>\n",
       "      <th>3</th>\n",
       "      <td>Beaux-Arts - Bonaparte</td>\n",
       "      <td>19</td>\n",
       "      <td>1</td>\n",
       "      <td>48.856452</td>\n",
       "      <td>2.334852</td>\n",
       "      <td>2023-12-06T02:45:09.991000Z</td>\n",
       "    </tr>\n",
       "    <tr>\n",
       "      <th>4</th>\n",
       "      <td>Toudouze - Clauzel</td>\n",
       "      <td>18</td>\n",
       "      <td>3</td>\n",
       "      <td>48.879296</td>\n",
       "      <td>2.337360</td>\n",
       "      <td>2023-12-06T02:45:10.107000Z</td>\n",
       "    </tr>\n",
       "    <tr>\n",
       "      <th>...</th>\n",
       "      <td>...</td>\n",
       "      <td>...</td>\n",
       "      <td>...</td>\n",
       "      <td>...</td>\n",
       "      <td>...</td>\n",
       "      <td>...</td>\n",
       "    </tr>\n",
       "    <tr>\n",
       "      <th>495</th>\n",
       "      <td>Mozart - Jasmin</td>\n",
       "      <td>54</td>\n",
       "      <td>6</td>\n",
       "      <td>48.852861</td>\n",
       "      <td>2.268484</td>\n",
       "      <td>2023-12-06T02:45:10.028000Z</td>\n",
       "    </tr>\n",
       "    <tr>\n",
       "      <th>496</th>\n",
       "      <td>Boulets - Faubourg Saint-Antoine</td>\n",
       "      <td>20</td>\n",
       "      <td>22</td>\n",
       "      <td>48.849259</td>\n",
       "      <td>2.391755</td>\n",
       "      <td>2023-12-06T02:45:11.226000Z</td>\n",
       "    </tr>\n",
       "    <tr>\n",
       "      <th>497</th>\n",
       "      <td>Haies - Réunion</td>\n",
       "      <td>15</td>\n",
       "      <td>7</td>\n",
       "      <td>48.853869</td>\n",
       "      <td>2.402426</td>\n",
       "      <td>2023-12-06T02:45:10.874000Z</td>\n",
       "    </tr>\n",
       "    <tr>\n",
       "      <th>498</th>\n",
       "      <td>Maine - Antoine Bourdelle</td>\n",
       "      <td>16</td>\n",
       "      <td>1</td>\n",
       "      <td>48.843085</td>\n",
       "      <td>2.320264</td>\n",
       "      <td>2023-12-06T02:45:12.399000Z</td>\n",
       "    </tr>\n",
       "    <tr>\n",
       "      <th>499</th>\n",
       "      <td>Kléber - Gouverneur Général Eboué</td>\n",
       "      <td>8</td>\n",
       "      <td>10</td>\n",
       "      <td>48.826886</td>\n",
       "      <td>2.272341</td>\n",
       "      <td>2023-12-06T02:45:11.243000Z</td>\n",
       "    </tr>\n",
       "  </tbody>\n",
       "</table>\n",
       "<p>500 rows × 6 columns</p>\n",
       "</div>"
      ],
      "text/plain": [
       "                                   name  empty_slots  free_bikes   latitude  \\\n",
       "0         Benjamin Godard - Victor Hugo           34           1  48.865983   \n",
       "1    André Mazet - Saint-André des Arts           29          26  48.853756   \n",
       "2       Faubourg Du Temple - Republique           31           5  48.867872   \n",
       "3                Beaux-Arts - Bonaparte           19           1  48.856452   \n",
       "4                    Toudouze - Clauzel           18           3  48.879296   \n",
       "..                                  ...          ...         ...        ...   \n",
       "495                     Mozart - Jasmin           54           6  48.852861   \n",
       "496    Boulets - Faubourg Saint-Antoine           20          22  48.849259   \n",
       "497                     Haies - Réunion           15           7  48.853869   \n",
       "498           Maine - Antoine Bourdelle           16           1  48.843085   \n",
       "499   Kléber - Gouverneur Général Eboué            8          10  48.826886   \n",
       "\n",
       "     longitude                    timestamp  \n",
       "0     2.275725  2023-12-06T02:45:12.426000Z  \n",
       "1     2.339096  2023-12-06T02:45:12.322000Z  \n",
       "2     2.364898  2023-12-06T02:45:09.480000Z  \n",
       "3     2.334852  2023-12-06T02:45:09.991000Z  \n",
       "4     2.337360  2023-12-06T02:45:10.107000Z  \n",
       "..         ...                          ...  \n",
       "495   2.268484  2023-12-06T02:45:10.028000Z  \n",
       "496   2.391755  2023-12-06T02:45:11.226000Z  \n",
       "497   2.402426  2023-12-06T02:45:10.874000Z  \n",
       "498   2.320264  2023-12-06T02:45:12.399000Z  \n",
       "499   2.272341  2023-12-06T02:45:11.243000Z  \n",
       "\n",
       "[500 rows x 6 columns]"
      ]
     },
     "execution_count": 11,
     "metadata": {},
     "output_type": "execute_result"
    }
   ],
   "source": [
    "# imports\n",
    "import pandas as pd\n",
    "import os # use this to access your environment variables\n",
    "import requests # this will be used to call the APIs\n",
    "import json\n",
    "FOURSQUARE_KEY = os.getenv('FOURSQUARE_API_KEY')\n",
    "df=pd.read_csv('Paris_data.csv')\n",
    "df=df.head(500) # limiting my data to 500 to reduce the API request and saving it as a new data frame for this notebook \n",
    "df"
   ]
  },
  {
   "cell_type": "code",
   "execution_count": 12,
   "metadata": {
    "tags": []
   },
   "outputs": [],
   "source": [
    "def get_venues_fs(latitude, longitude):\n",
    "    \"\"\"\n",
    "    Get venues from foursquare with coordinates.\n",
    "    Args:\n",
    "        latitude (float): latitude for query (must be combined with longitude)\n",
    "        longitude (float): longitude for query (must be combined with latitude)\n",
    "            \n",
    "    Returns:\n",
    "        response: response object from the requests library.\n",
    "    \"\"\"\n",
    "    URL = 'https://api.foursquare.com/v3/places/search'\n",
    "    # Prepare parameters for the API request\n",
    "    params = {\n",
    "        'll': f'{latitude},{longitude}',  # latitude and longitude\n",
    "        'radius': 1000,  # radius around the location\n",
    "        'categories':[\"13000,10000,12013,15008\"]\n",
    "            }\n",
    "    headers = {\n",
    "        \"Accept\": \"application/json\",\n",
    "        \"Authorization\": FOURSQUARE_KEY\n",
    "                }\n",
    "\n",
    "    response = requests.get(URL,params=params,headers=headers)\n",
    "    return response"
   ]
  },
  {
   "cell_type": "code",
   "execution_count": 13,
   "metadata": {
    "tags": []
   },
   "outputs": [
    {
     "name": "stdout",
     "output_type": "stream",
     "text": [
      "20 rows has been processed\n",
      "40 rows has been processed\n",
      "60 rows has been processed\n",
      "80 rows has been processed\n",
      "100 rows has been processed\n",
      "120 rows has been processed\n",
      "140 rows has been processed\n",
      "160 rows has been processed\n",
      "180 rows has been processed\n",
      "200 rows has been processed\n",
      "220 rows has been processed\n",
      "240 rows has been processed\n",
      "260 rows has been processed\n",
      "280 rows has been processed\n",
      "300 rows has been processed\n",
      "320 rows has been processed\n",
      "340 rows has been processed\n",
      "360 rows has been processed\n",
      "380 rows has been processed\n",
      "400 rows has been processed\n",
      "420 rows has been processed\n",
      "440 rows has been processed\n",
      "460 rows has been processed\n",
      "480 rows has been processed\n"
     ]
    }
   ],
   "source": [
    "four_sq_data=[]\n",
    "\n",
    "counter=0 # to count each iteration\n",
    "\n",
    "max_count=20 # the max count before saving data to a file in the libarary\n",
    "\n",
    "id=0 # for name of the file based on iteration\n",
    "\n",
    "for index, row in df.iterrows():\n",
    "    # Extract latitude and longitude from the current row\n",
    "    lat, lon = row['latitude'], row['longitude']\n",
    "    res = get_venues_fs(lat,lon)\n",
    "    if res.status_code == 200:\n",
    "        data = res.json()\n",
    "        four_sq_data.append(data)# add data from each coordinate to a list\n",
    "        if (counter%max_count==0) and (counter>0): # condition for interval of monitoring\n",
    "            print(str(counter)+ \" rows has been processed\") # statement to see the progress of the data being pulled\n",
    "            # saving the raw json file\n",
    "            with open(f'four_sq_data_{id}.json', 'w') as f:\n",
    "                json.dump(four_sq_data, f)\n",
    "                id+=1 # incrementing the file number\n",
    "    else:\n",
    "        print(f\"Error: {res.status_code}, {res.text}\")\n",
    "    # if index>=max_count: only for testing phase to stop the iterations\n",
    "    #     break\n",
    "    counter+=1\n",
    "with open(f'four_sq_data_final.json', 'w') as f:\n",
    "     json.dump(four_sq_data, f)\n"
   ]
  },
  {
   "cell_type": "code",
   "execution_count": 14,
   "metadata": {
    "tags": []
   },
   "outputs": [
    {
     "name": "stdout",
     "output_type": "stream",
     "text": [
      "500\n"
     ]
    }
   ],
   "source": [
    "print(len(four_sq_data))"
   ]
  },
  {
   "cell_type": "markdown",
   "metadata": {},
   "source": [
    "###### Below we are doing one final dump to get the remainder of data that does not match the conditional statement to get a json file with all 500 Data points"
   ]
  },
  {
   "cell_type": "code",
   "execution_count": 15,
   "metadata": {
    "tags": []
   },
   "outputs": [],
   "source": [
    "with open(f'four_sq_data_final.json', 'w') as f:\n",
    "     json.dump(four_sq_data, f)"
   ]
  },
  {
   "cell_type": "markdown",
   "metadata": {
    "tags": []
   },
   "source": [
    "# Foursquare"
   ]
  },
  {
   "cell_type": "markdown",
   "metadata": {},
   "source": [
    "Send a request to Foursquare with a small radius (1000m) for all the bike stations in your city of choice. "
   ]
  },
  {
   "cell_type": "markdown",
   "metadata": {},
   "source": [
    "Parse through the response to get the POI (such as restaurants, bars, etc) details you want (ratings, name, location, etc)"
   ]
  },
  {
   "cell_type": "code",
   "execution_count": null,
   "metadata": {},
   "outputs": [],
   "source": []
  },
  {
   "cell_type": "markdown",
   "metadata": {},
   "source": [
    "Put your parsed results into a DataFrame"
   ]
  },
  {
   "cell_type": "code",
   "execution_count": null,
   "metadata": {},
   "outputs": [],
   "source": []
  },
  {
   "cell_type": "markdown",
   "metadata": {},
   "source": [
    "# Yelp"
   ]
  },
  {
   "cell_type": "markdown",
   "metadata": {},
   "source": [
    "Send a request to Yelp with a small radius (1000m) for all the bike stations in your city of choice. "
   ]
  },
  {
   "cell_type": "code",
   "execution_count": null,
   "metadata": {},
   "outputs": [],
   "source": []
  },
  {
   "cell_type": "markdown",
   "metadata": {},
   "source": [
    "Parse through the response to get the POI (such as restaurants, bars, etc) details you want (ratings, name, location, etc)"
   ]
  },
  {
   "cell_type": "code",
   "execution_count": null,
   "metadata": {},
   "outputs": [],
   "source": []
  },
  {
   "cell_type": "markdown",
   "metadata": {},
   "source": [
    "Put your parsed results into a DataFrame"
   ]
  },
  {
   "cell_type": "markdown",
   "metadata": {},
   "source": []
  },
  {
   "cell_type": "markdown",
   "metadata": {},
   "source": [
    "# Comparing Results"
   ]
  },
  {
   "cell_type": "markdown",
   "metadata": {},
   "source": [
    "Which API provided you with more complete data? Provide an explanation. "
   ]
  },
  {
   "cell_type": "markdown",
   "metadata": {},
   "source": []
  },
  {
   "cell_type": "markdown",
   "metadata": {},
   "source": [
    "Get the top 10 restaurants according to their rating"
   ]
  }
 ],
 "metadata": {
  "kernelspec": {
   "display_name": "Python 3 (ipykernel)",
   "language": "python",
   "name": "python3"
  },
  "language_info": {
   "codemirror_mode": {
    "name": "ipython",
    "version": 3
   },
   "file_extension": ".py",
   "mimetype": "text/x-python",
   "name": "python",
   "nbconvert_exporter": "python",
   "pygments_lexer": "ipython3",
   "version": "3.11.5"
  }
 },
 "nbformat": 4,
 "nbformat_minor": 4
}
