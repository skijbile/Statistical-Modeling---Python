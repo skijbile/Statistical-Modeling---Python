{
 "cells": [
  {
   "cell_type": "markdown",
   "metadata": {},
   "source": [
    "# CityBikes"
   ]
  },
  {
   "cell_type": "markdown",
   "metadata": {},
   "source": [
    "### Send a request to CityBikes for the city of your choice. "
   ]
  },
  {
   "cell_type": "code",
   "execution_count": 139,
   "metadata": {
    "tags": []
   },
   "outputs": [],
   "source": [
    "import requests # this will be used to call the APIs\n",
    "import json\n",
    "import pandas as pd"
   ]
  },
  {
   "cell_type": "markdown",
   "metadata": {},
   "source": [
    "###### After going through the documentation I first went through the following URL\n",
    "###### 'http://api.citybik.es/v2/networks which gave the base of the json file to find the network_id which acts as the endpoint to get the bike stations for a particular city and give us the details of each station in that city, which gives us the following code to get our response. "
   ]
  },
  {
   "cell_type": "code",
   "execution_count": 101,
   "metadata": {
    "tags": []
   },
   "outputs": [],
   "source": [
    "response = requests.get('http://api.citybik.es/v2/networks')\n",
    "data = response.json()\n",
    "data # to see the components of the json file "
   ]
  },
  {
   "cell_type": "code",
   "execution_count": 110,
   "metadata": {
    "tags": []
   },
   "outputs": [
    {
     "name": "stdout",
     "output_type": "stream",
     "text": [
      "{'company': ['Smovengo'], 'ebikes': True, 'gbfs_href': 'https://velib-metropole-opendata.smovengo.cloud/opendata/Velib_Metropole/gbfs.json', 'href': '/v2/networks/velib', 'id': 'velib', 'license': {'name': 'OPEN LICENCE 2.0', 'url': 'etalab.gouv.fr/wp-content/uploads/2018/11/open-licence.pdf'}, 'location': {'city': 'Paris', 'country': 'FR', 'latitude': 48.856614, 'longitude': 2.3522219}, 'name': \"Vélib' Métropole\"}\n"
     ]
    }
   ],
   "source": [
    "for i in range(0,len(data['networks'])): # iterating through the data to get city Paris \n",
    "               a= data['networks'][i]['location']\n",
    "               if a['city']==\"Paris\":\n",
    "                   print(data['networks'][i]) # to see the endpoint under href to request data for the city of Paris\n",
    "            "
   ]
  },
  {
   "cell_type": "code",
   "execution_count": 111,
   "metadata": {},
   "outputs": [
    {
     "data": {
      "text/plain": [
       "<Response [200]>"
      ]
     },
     "execution_count": 111,
     "metadata": {},
     "output_type": "execute_result"
    }
   ],
   "source": [
    "response = requests.get('http://api.citybik.es/v2/networks/velib')\n",
    "response"
   ]
  },
  {
   "cell_type": "markdown",
   "metadata": {},
   "source": [
    "### Parse through the response to get the details you want for the bike stations in that city (latitude, longitude, number of bikes). "
   ]
  },
  {
   "cell_type": "markdown",
   "metadata": {
    "tags": []
   },
   "source": [
    "###### alternate solution provided by Larry Bot \n",
    "###### ```data=response.json()\n",
    "###### data['network']['stations'][0]\n",
    "###### Assuming 'data' is your original data structure and it contains a list of stations under 'network' key.\n",
    "###### data_required = [\"empty_slots\", \"free_bikes\", \"latitude\", \"longitude\", \"timestamp\"]\n",
    "###### filtered_data = [] # This will be a list to store our new dictionaries\n",
    "\n",
    "###### for station in data['network']['stations']:  # Each 'station' is a dictionary\n",
    "######     new_dict = {}  # Create a new dictionary for the required key-value pairs\n",
    "######     for key in data_required:\n",
    "######         if key in station:  # Check if the key is in the current station dictionary\n",
    "######             new_dict[key] = station[key]  # Add the key-value pair to the new dictionary\n",
    "######     filtered_data.append(new_dict)  # Add the new dictionary to the filtered_data list\n",
    "\n",
    "###### filtered_data' now contains the list of dictionaries with only the keys from 'data_required'\n",
    "\n",
    "###### print (filtered_data)```"
   ]
  },
  {
   "cell_type": "code",
   "execution_count": 143,
   "metadata": {},
   "outputs": [],
   "source": [
    "data=response.json()\n",
    "data['network']['stations'][0] #to see the elements of each item in station\n",
    "\n",
    "# empty list defined to save the values of the keys in a list format to create a data frame\n",
    "empty_slot=[]\n",
    "free_bikes=[]\n",
    "latitude=[]\n",
    "longitude=[]\n",
    "timestamp=[]\n",
    "\n",
    "for i in range(0,len(data['network']['stations'])): #looping to get the values from each element of the dictionary into a list format\n",
    "    a=(data['network']['stations'][i]) # creating a variable'a' to make the following code easy to read and understand\n",
    "    \n",
    "    empty_slot.append(a['empty_slots'])\n",
    "    free_bikes.append(a['free_bikes'])\n",
    "    latitude.append(a['latitude'])\n",
    "    longitude.append(a['longitude'])\n",
    "    timestamp.append(a['timestamp'])\n",
    "    \n",
    "# print(empty_slot,free_bikes,latitude,longitude,timestamp)    \n",
    "     "
   ]
  },
  {
   "cell_type": "code",
   "execution_count": 146,
   "metadata": {
    "tags": []
   },
   "outputs": [],
   "source": [
    "# saving the raw json file\n",
    "with open('city_bikes_data.json', 'w') as f:\n",
    "    json.dump(data, f)"
   ]
  },
  {
   "cell_type": "markdown",
   "metadata": {},
   "source": [
    "### Put your parsed results into a DataFrame."
   ]
  },
  {
   "cell_type": "code",
   "execution_count": 142,
   "metadata": {},
   "outputs": [
    {
     "data": {
      "text/html": [
       "<div>\n",
       "<style scoped>\n",
       "    .dataframe tbody tr th:only-of-type {\n",
       "        vertical-align: middle;\n",
       "    }\n",
       "\n",
       "    .dataframe tbody tr th {\n",
       "        vertical-align: top;\n",
       "    }\n",
       "\n",
       "    .dataframe thead th {\n",
       "        text-align: right;\n",
       "    }\n",
       "</style>\n",
       "<table border=\"1\" class=\"dataframe\">\n",
       "  <thead>\n",
       "    <tr style=\"text-align: right;\">\n",
       "      <th></th>\n",
       "      <th>empty_slots</th>\n",
       "      <th>free_bikes</th>\n",
       "      <th>latitude</th>\n",
       "      <th>longitude</th>\n",
       "      <th>timestamp</th>\n",
       "    </tr>\n",
       "  </thead>\n",
       "  <tbody>\n",
       "    <tr>\n",
       "      <th>0</th>\n",
       "      <td>32</td>\n",
       "      <td>3</td>\n",
       "      <td>48.865983</td>\n",
       "      <td>2.275725</td>\n",
       "      <td>2023-12-04T04:49:10.102000Z</td>\n",
       "    </tr>\n",
       "    <tr>\n",
       "      <th>1</th>\n",
       "      <td>33</td>\n",
       "      <td>21</td>\n",
       "      <td>48.853756</td>\n",
       "      <td>2.339096</td>\n",
       "      <td>2023-12-04T04:49:09.860000Z</td>\n",
       "    </tr>\n",
       "    <tr>\n",
       "      <th>2</th>\n",
       "      <td>26</td>\n",
       "      <td>11</td>\n",
       "      <td>48.867872</td>\n",
       "      <td>2.364898</td>\n",
       "      <td>2023-12-04T04:49:07.405000Z</td>\n",
       "    </tr>\n",
       "    <tr>\n",
       "      <th>3</th>\n",
       "      <td>11</td>\n",
       "      <td>9</td>\n",
       "      <td>48.856452</td>\n",
       "      <td>2.334852</td>\n",
       "      <td>2023-12-04T04:49:07.921000Z</td>\n",
       "    </tr>\n",
       "    <tr>\n",
       "      <th>4</th>\n",
       "      <td>15</td>\n",
       "      <td>6</td>\n",
       "      <td>48.879296</td>\n",
       "      <td>2.337360</td>\n",
       "      <td>2023-12-04T04:49:08.016000Z</td>\n",
       "    </tr>\n",
       "    <tr>\n",
       "      <th>...</th>\n",
       "      <td>...</td>\n",
       "      <td>...</td>\n",
       "      <td>...</td>\n",
       "      <td>...</td>\n",
       "      <td>...</td>\n",
       "    </tr>\n",
       "    <tr>\n",
       "      <th>1452</th>\n",
       "      <td>5</td>\n",
       "      <td>25</td>\n",
       "      <td>48.939959</td>\n",
       "      <td>2.327957</td>\n",
       "      <td>2023-12-04T04:49:09.230000Z</td>\n",
       "    </tr>\n",
       "    <tr>\n",
       "      <th>1453</th>\n",
       "      <td>13</td>\n",
       "      <td>13</td>\n",
       "      <td>48.936094</td>\n",
       "      <td>2.343617</td>\n",
       "      <td>2023-12-04T04:49:08.317000Z</td>\n",
       "    </tr>\n",
       "    <tr>\n",
       "      <th>1454</th>\n",
       "      <td>1</td>\n",
       "      <td>28</td>\n",
       "      <td>48.832024</td>\n",
       "      <td>2.490271</td>\n",
       "      <td>2023-12-04T04:49:08.451000Z</td>\n",
       "    </tr>\n",
       "    <tr>\n",
       "      <th>1455</th>\n",
       "      <td>27</td>\n",
       "      <td>0</td>\n",
       "      <td>48.880598</td>\n",
       "      <td>2.376949</td>\n",
       "      <td>2023-12-04T04:49:09.518000Z</td>\n",
       "    </tr>\n",
       "    <tr>\n",
       "      <th>1456</th>\n",
       "      <td>3</td>\n",
       "      <td>36</td>\n",
       "      <td>48.836919</td>\n",
       "      <td>2.391678</td>\n",
       "      <td>2023-12-04T04:49:08.859000Z</td>\n",
       "    </tr>\n",
       "  </tbody>\n",
       "</table>\n",
       "<p>1457 rows × 5 columns</p>\n",
       "</div>"
      ],
      "text/plain": [
       "      empty_slots  free_bikes   latitude  longitude  \\\n",
       "0              32           3  48.865983   2.275725   \n",
       "1              33          21  48.853756   2.339096   \n",
       "2              26          11  48.867872   2.364898   \n",
       "3              11           9  48.856452   2.334852   \n",
       "4              15           6  48.879296   2.337360   \n",
       "...           ...         ...        ...        ...   \n",
       "1452            5          25  48.939959   2.327957   \n",
       "1453           13          13  48.936094   2.343617   \n",
       "1454            1          28  48.832024   2.490271   \n",
       "1455           27           0  48.880598   2.376949   \n",
       "1456            3          36  48.836919   2.391678   \n",
       "\n",
       "                        timestamp  \n",
       "0     2023-12-04T04:49:10.102000Z  \n",
       "1     2023-12-04T04:49:09.860000Z  \n",
       "2     2023-12-04T04:49:07.405000Z  \n",
       "3     2023-12-04T04:49:07.921000Z  \n",
       "4     2023-12-04T04:49:08.016000Z  \n",
       "...                           ...  \n",
       "1452  2023-12-04T04:49:09.230000Z  \n",
       "1453  2023-12-04T04:49:08.317000Z  \n",
       "1454  2023-12-04T04:49:08.451000Z  \n",
       "1455  2023-12-04T04:49:09.518000Z  \n",
       "1456  2023-12-04T04:49:08.859000Z  \n",
       "\n",
       "[1457 rows x 5 columns]"
      ]
     },
     "execution_count": 142,
     "metadata": {},
     "output_type": "execute_result"
    }
   ],
   "source": [
    "city_data ={ 'empty_slots': empty_slot,\n",
    "             'free_bikes': free_bikes,\n",
    "             'latitude': latitude,\n",
    "             'longitude':longitude,\n",
    "             'timestamp':timestamp}\n",
    "Paris_df= pd.DataFrame(city_data)\n",
    "Paris_df"
   ]
  },
  {
   "cell_type": "code",
   "execution_count": 144,
   "metadata": {},
   "outputs": [],
   "source": [
    "Paris_df.to_csv('Paris_data.csv',index=False) # store my data frame as csv to be able to access it in the other notebooks"
   ]
  },
  {
   "cell_type": "code",
   "execution_count": null,
   "metadata": {},
   "outputs": [],
   "source": []
  }
 ],
 "metadata": {
  "kernelspec": {
   "display_name": "Python 3 (ipykernel)",
   "language": "python",
   "name": "python3"
  },
  "language_info": {
   "codemirror_mode": {
    "name": "ipython",
    "version": 3
   },
   "file_extension": ".py",
   "mimetype": "text/x-python",
   "name": "python",
   "nbconvert_exporter": "python",
   "pygments_lexer": "ipython3",
   "version": "3.11.5"
  }
 },
 "nbformat": 4,
 "nbformat_minor": 4
}
