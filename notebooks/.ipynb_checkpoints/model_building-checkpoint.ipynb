{
 "cells": [
  {
   "cell_type": "code",
   "execution_count": 15,
   "metadata": {
    "tags": []
   },
   "outputs": [],
   "source": [
    "import pandas as pd\n",
    "import numpy as np\n",
    "import statsmodels.api as sm\n",
    "import warnings\n",
    "warnings.filterwarnings(\"ignore\")"
   ]
  },
  {
   "cell_type": "code",
   "execution_count": 2,
   "metadata": {
    "tags": []
   },
   "outputs": [],
   "source": [
    "df_citybikes=pd.read_csv('Paris_data.csv')\n",
    "df_citybikes=df_citybikes.head(500) # limiting my data to 500 to reduce the API request and saving it as a new data frame for this notebook \n",
    "api_df = pd.read_csv('Yelp_data.csv')\n",
    "four_sq_df=pd.read_csv('four_sq_data.csv')"
   ]
  },
  {
   "cell_type": "code",
   "execution_count": 4,
   "metadata": {
    "tags": []
   },
   "outputs": [
    {
     "name": "stdout",
     "output_type": "stream",
     "text": [
      "<class 'pandas.core.frame.DataFrame'>\n",
      "RangeIndex: 820 entries, 0 to 819\n",
      "Data columns (total 13 columns):\n",
      " #   Column            Non-Null Count  Dtype  \n",
      "---  ------            --------------  -----  \n",
      " 0   name_of_station   820 non-null    object \n",
      " 1   empty_slots       820 non-null    int64  \n",
      " 2   free_bikes        820 non-null    int64  \n",
      " 3   latitude          820 non-null    float64\n",
      " 4   longitude         820 non-null    float64\n",
      " 5   timestamp         820 non-null    object \n",
      " 6   lat&lon           820 non-null    object \n",
      " 7   name              820 non-null    object \n",
      " 8   rating            820 non-null    float64\n",
      " 9   reviews           820 non-null    int64  \n",
      " 10  price             728 non-null    float64\n",
      " 11  address           813 non-null    object \n",
      " 12  distance_on_yelp  820 non-null    float64\n",
      "dtypes: float64(5), int64(3), object(5)\n",
      "memory usage: 83.4+ KB\n"
     ]
    }
   ],
   "source": [
    "Paris_merged_df = pd.merge(df_citybikes,api_df,on=\"lat&lon\")\n",
    "Paris_merged_df.info()"
   ]
  },
  {
   "cell_type": "code",
   "execution_count": 27,
   "metadata": {
    "tags": []
   },
   "outputs": [
    {
     "name": "stdout",
     "output_type": "stream",
     "text": [
      "<class 'pandas.core.frame.DataFrame'>\n",
      "Index: 728 entries, 0 to 819\n",
      "Data columns (total 13 columns):\n",
      " #   Column            Non-Null Count  Dtype  \n",
      "---  ------            --------------  -----  \n",
      " 0   name_of_station   728 non-null    object \n",
      " 1   empty_slots       728 non-null    int64  \n",
      " 2   free_bikes        728 non-null    int64  \n",
      " 3   latitude          728 non-null    float64\n",
      " 4   longitude         728 non-null    float64\n",
      " 5   timestamp         728 non-null    object \n",
      " 6   lat&lon           728 non-null    object \n",
      " 7   name              728 non-null    object \n",
      " 8   rating            728 non-null    float64\n",
      " 9   reviews           728 non-null    int64  \n",
      " 10  price             728 non-null    float64\n",
      " 11  address           723 non-null    object \n",
      " 12  distance_on_yelp  728 non-null    float64\n",
      "dtypes: float64(5), int64(3), object(5)\n",
      "memory usage: 79.6+ KB\n"
     ]
    }
   ],
   "source": [
    "Paris_merged_df.dropna(subset='price',inplace=True)\n",
    "Paris_merged_df.info()"
   ]
  },
  {
   "cell_type": "code",
   "execution_count": 35,
   "metadata": {
    "tags": []
   },
   "outputs": [
    {
     "data": {
      "text/plain": [
       "(604, 13)"
      ]
     },
     "execution_count": 35,
     "metadata": {},
     "output_type": "execute_result"
    }
   ],
   "source": [
    "filtered_group_df=Paris_merged_df['distance_on_yelp']<=1000\n",
    "new_group_df=Paris_merged_df[filtered_group_df]\n",
    "new_group_df.shape"
   ]
  },
  {
   "cell_type": "code",
   "execution_count": 36,
   "metadata": {
    "tags": []
   },
   "outputs": [
    {
     "data": {
      "text/html": [
       "<div>\n",
       "<style scoped>\n",
       "    .dataframe tbody tr th:only-of-type {\n",
       "        vertical-align: middle;\n",
       "    }\n",
       "\n",
       "    .dataframe tbody tr th {\n",
       "        vertical-align: top;\n",
       "    }\n",
       "\n",
       "    .dataframe thead th {\n",
       "        text-align: right;\n",
       "    }\n",
       "</style>\n",
       "<table border=\"1\" class=\"dataframe\">\n",
       "  <thead>\n",
       "    <tr style=\"text-align: right;\">\n",
       "      <th></th>\n",
       "      <th>name_of_station</th>\n",
       "      <th>free_bikes</th>\n",
       "      <th>distance_on_yelp</th>\n",
       "      <th>price</th>\n",
       "      <th>rating</th>\n",
       "    </tr>\n",
       "    <tr>\n",
       "      <th>name</th>\n",
       "      <th></th>\n",
       "      <th></th>\n",
       "      <th></th>\n",
       "      <th></th>\n",
       "      <th></th>\n",
       "    </tr>\n",
       "  </thead>\n",
       "  <tbody>\n",
       "    <tr>\n",
       "      <th>John Viande</th>\n",
       "      <td>8</td>\n",
       "      <td>48</td>\n",
       "      <td>941.0</td>\n",
       "      <td>2.0</td>\n",
       "      <td>4.500000</td>\n",
       "    </tr>\n",
       "    <tr>\n",
       "      <th>L'Orange Bleue</th>\n",
       "      <td>4</td>\n",
       "      <td>43</td>\n",
       "      <td>997.0</td>\n",
       "      <td>2.0</td>\n",
       "      <td>4.000000</td>\n",
       "    </tr>\n",
       "    <tr>\n",
       "      <th>Schwartz's Deli</th>\n",
       "      <td>3</td>\n",
       "      <td>37</td>\n",
       "      <td>931.0</td>\n",
       "      <td>2.0</td>\n",
       "      <td>3.666667</td>\n",
       "    </tr>\n",
       "    <tr>\n",
       "      <th>L'Elfe Assis</th>\n",
       "      <td>2</td>\n",
       "      <td>31</td>\n",
       "      <td>514.0</td>\n",
       "      <td>2.0</td>\n",
       "      <td>4.500000</td>\n",
       "    </tr>\n",
       "    <tr>\n",
       "      <th>La Maison Bleue</th>\n",
       "      <td>7</td>\n",
       "      <td>31</td>\n",
       "      <td>595.0</td>\n",
       "      <td>3.0</td>\n",
       "      <td>4.500000</td>\n",
       "    </tr>\n",
       "    <tr>\n",
       "      <th>...</th>\n",
       "      <td>...</td>\n",
       "      <td>...</td>\n",
       "      <td>...</td>\n",
       "      <td>...</td>\n",
       "      <td>...</td>\n",
       "    </tr>\n",
       "    <tr>\n",
       "      <th>Au Bon Coin</th>\n",
       "      <td>1</td>\n",
       "      <td>0</td>\n",
       "      <td>236.0</td>\n",
       "      <td>2.0</td>\n",
       "      <td>4.000000</td>\n",
       "    </tr>\n",
       "    <tr>\n",
       "      <th>Le Bistrot des Soupirs</th>\n",
       "      <td>1</td>\n",
       "      <td>0</td>\n",
       "      <td>218.0</td>\n",
       "      <td>2.0</td>\n",
       "      <td>4.000000</td>\n",
       "    </tr>\n",
       "    <tr>\n",
       "      <th>Café Martin</th>\n",
       "      <td>1</td>\n",
       "      <td>0</td>\n",
       "      <td>255.0</td>\n",
       "      <td>2.0</td>\n",
       "      <td>4.000000</td>\n",
       "    </tr>\n",
       "    <tr>\n",
       "      <th>Shingané</th>\n",
       "      <td>1</td>\n",
       "      <td>0</td>\n",
       "      <td>266.0</td>\n",
       "      <td>2.0</td>\n",
       "      <td>4.000000</td>\n",
       "    </tr>\n",
       "    <tr>\n",
       "      <th>Leslie Road</th>\n",
       "      <td>1</td>\n",
       "      <td>0</td>\n",
       "      <td>216.0</td>\n",
       "      <td>2.0</td>\n",
       "      <td>4.000000</td>\n",
       "    </tr>\n",
       "  </tbody>\n",
       "</table>\n",
       "<p>435 rows × 5 columns</p>\n",
       "</div>"
      ],
      "text/plain": [
       "                        name_of_station  free_bikes  distance_on_yelp  price  \\\n",
       "name                                                                           \n",
       "John Viande                           8          48             941.0    2.0   \n",
       "L'Orange Bleue                        4          43             997.0    2.0   \n",
       "Schwartz's Deli                       3          37             931.0    2.0   \n",
       "L'Elfe Assis                          2          31             514.0    2.0   \n",
       "La Maison Bleue                       7          31             595.0    3.0   \n",
       "...                                 ...         ...               ...    ...   \n",
       "Au Bon Coin                           1           0             236.0    2.0   \n",
       "Le Bistrot des Soupirs                1           0             218.0    2.0   \n",
       "Café Martin                           1           0             255.0    2.0   \n",
       "Shingané                              1           0             266.0    2.0   \n",
       "Leslie Road                           1           0             216.0    2.0   \n",
       "\n",
       "                          rating  \n",
       "name                              \n",
       "John Viande             4.500000  \n",
       "L'Orange Bleue          4.000000  \n",
       "Schwartz's Deli         3.666667  \n",
       "L'Elfe Assis            4.500000  \n",
       "La Maison Bleue         4.500000  \n",
       "...                          ...  \n",
       "Au Bon Coin             4.000000  \n",
       "Le Bistrot des Soupirs  4.000000  \n",
       "Café Martin             4.000000  \n",
       "Shingané                4.000000  \n",
       "Leslie Road             4.000000  \n",
       "\n",
       "[435 rows x 5 columns]"
      ]
     },
     "execution_count": 36,
     "metadata": {},
     "output_type": "execute_result"
    }
   ],
   "source": [
    "grouping_df = new_group_df.groupby('name').agg({'name_of_station':'count' ,\n",
    "                                     'free_bikes':'sum',\n",
    "                                     'distance_on_yelp':'max',\n",
    "                                     'price':'mean',\n",
    "                                     'rating':'mean'}).sort_values(ascending=False,by='free_bikes')\n",
    "grouping_df\n",
    "# name of station is count of stations for a business in that set of coordinates (lat&lon)"
   ]
  },
  {
   "cell_type": "markdown",
   "metadata": {},
   "source": [
    "#### we have already established in the joining data notebook that there is a not strong to weak correlation but we are still going to go ahead and create a model. There are definately assumptions that are ignored"
   ]
  },
  {
   "cell_type": "code",
   "execution_count": 37,
   "metadata": {
    "tags": []
   },
   "outputs": [
    {
     "data": {
      "text/html": [
       "<div>\n",
       "<style scoped>\n",
       "    .dataframe tbody tr th:only-of-type {\n",
       "        vertical-align: middle;\n",
       "    }\n",
       "\n",
       "    .dataframe tbody tr th {\n",
       "        vertical-align: top;\n",
       "    }\n",
       "\n",
       "    .dataframe thead th {\n",
       "        text-align: right;\n",
       "    }\n",
       "</style>\n",
       "<table border=\"1\" class=\"dataframe\">\n",
       "  <thead>\n",
       "    <tr style=\"text-align: right;\">\n",
       "      <th></th>\n",
       "      <th>name_of_station</th>\n",
       "      <th>free_bikes</th>\n",
       "      <th>distance_on_yelp</th>\n",
       "      <th>price</th>\n",
       "      <th>rating</th>\n",
       "    </tr>\n",
       "  </thead>\n",
       "  <tbody>\n",
       "    <tr>\n",
       "      <th>name_of_station</th>\n",
       "      <td>1.000000</td>\n",
       "      <td>0.492873</td>\n",
       "      <td>0.373568</td>\n",
       "      <td>-0.015390</td>\n",
       "      <td>0.121266</td>\n",
       "    </tr>\n",
       "    <tr>\n",
       "      <th>free_bikes</th>\n",
       "      <td>0.492873</td>\n",
       "      <td>1.000000</td>\n",
       "      <td>0.221025</td>\n",
       "      <td>-0.059305</td>\n",
       "      <td>0.096248</td>\n",
       "    </tr>\n",
       "    <tr>\n",
       "      <th>distance_on_yelp</th>\n",
       "      <td>0.373568</td>\n",
       "      <td>0.221025</td>\n",
       "      <td>1.000000</td>\n",
       "      <td>0.092630</td>\n",
       "      <td>0.080099</td>\n",
       "    </tr>\n",
       "    <tr>\n",
       "      <th>price</th>\n",
       "      <td>-0.015390</td>\n",
       "      <td>-0.059305</td>\n",
       "      <td>0.092630</td>\n",
       "      <td>1.000000</td>\n",
       "      <td>0.117011</td>\n",
       "    </tr>\n",
       "    <tr>\n",
       "      <th>rating</th>\n",
       "      <td>0.121266</td>\n",
       "      <td>0.096248</td>\n",
       "      <td>0.080099</td>\n",
       "      <td>0.117011</td>\n",
       "      <td>1.000000</td>\n",
       "    </tr>\n",
       "  </tbody>\n",
       "</table>\n",
       "</div>"
      ],
      "text/plain": [
       "                  name_of_station  free_bikes  distance_on_yelp     price  \\\n",
       "name_of_station          1.000000    0.492873          0.373568 -0.015390   \n",
       "free_bikes               0.492873    1.000000          0.221025 -0.059305   \n",
       "distance_on_yelp         0.373568    0.221025          1.000000  0.092630   \n",
       "price                   -0.015390   -0.059305          0.092630  1.000000   \n",
       "rating                   0.121266    0.096248          0.080099  0.117011   \n",
       "\n",
       "                    rating  \n",
       "name_of_station   0.121266  \n",
       "free_bikes        0.096248  \n",
       "distance_on_yelp  0.080099  \n",
       "price             0.117011  \n",
       "rating            1.000000  "
      ]
     },
     "execution_count": 37,
     "metadata": {},
     "output_type": "execute_result"
    }
   ],
   "source": [
    "grouping_df.corr()"
   ]
  },
  {
   "cell_type": "markdown",
   "metadata": {},
   "source": [
    "Build a regression model."
   ]
  },
  {
   "cell_type": "markdown",
   "metadata": {},
   "source": [
    "#### Backward Selection to see if the number of stations is related to any of the other columns"
   ]
  },
  {
   "cell_type": "code",
   "execution_count": 43,
   "metadata": {
    "tags": []
   },
   "outputs": [
    {
     "name": "stdout",
     "output_type": "stream",
     "text": [
      "                            OLS Regression Results                            \n",
      "==============================================================================\n",
      "Dep. Variable:        name_of_station   R-squared:                       0.320\n",
      "Model:                            OLS   Adj. R-squared:                  0.314\n",
      "Method:                 Least Squares   F-statistic:                     50.68\n",
      "Date:                Sun, 10 Dec 2023   Prob (F-statistic):           5.99e-35\n",
      "Time:                        22:03:49   Log-Likelihood:                -422.41\n",
      "No. Observations:                 435   AIC:                             854.8\n",
      "Df Residuals:                     430   BIC:                             875.2\n",
      "Df Model:                           4                                         \n",
      "Covariance Type:            nonrobust                                         \n",
      "====================================================================================\n",
      "                       coef    std err          t      P>|t|      [0.025      0.975]\n",
      "------------------------------------------------------------------------------------\n",
      "const                0.2859      0.253      1.128      0.260      -0.212       0.784\n",
      "free_bikes           0.0382      0.004     10.334      0.000       0.031       0.046\n",
      "distance_on_yelp     0.0007      0.000      6.748      0.000       0.001       0.001\n",
      "price               -0.0268      0.047     -0.570      0.569      -0.119       0.066\n",
      "rating               0.0882      0.058      1.512      0.131      -0.026       0.203\n",
      "==============================================================================\n",
      "Omnibus:                      283.995   Durbin-Watson:                   1.542\n",
      "Prob(Omnibus):                  0.000   Jarque-Bera (JB):             4697.470\n",
      "Skew:                           2.517   Prob(JB):                         0.00\n",
      "Kurtosis:                      18.292   Cond. No.                     4.97e+03\n",
      "==============================================================================\n",
      "\n",
      "Notes:\n",
      "[1] Standard Errors assume that the covariance matrix of the errors is correctly specified.\n",
      "[2] The condition number is large, 4.97e+03. This might indicate that there are\n",
      "strong multicollinearity or other numerical problems.\n"
     ]
    }
   ],
   "source": [
    "y= grouping_df['name_of_station']\n",
    "X=grouping_df.drop('name_of_station',axis=1)\n",
    "X=sm.add_constant(X)\n",
    "\n",
    "model=sm.OLS(y,X)\n",
    "results1=model.fit()\n",
    "print(results1.summary())\n",
    "\n"
   ]
  },
  {
   "cell_type": "markdown",
   "metadata": {},
   "source": [
    "#### we see that the p-value for price is above thresh hold of 0.05 so we are going to drop that column and see the change"
   ]
  },
  {
   "cell_type": "code",
   "execution_count": 44,
   "metadata": {
    "tags": []
   },
   "outputs": [
    {
     "name": "stdout",
     "output_type": "stream",
     "text": [
      "                            OLS Regression Results                            \n",
      "==============================================================================\n",
      "Dep. Variable:        name_of_station   R-squared:                       0.320\n",
      "Model:                            OLS   Adj. R-squared:                  0.315\n",
      "Method:                 Least Squares   F-statistic:                     67.58\n",
      "Date:                Sun, 10 Dec 2023   Prob (F-statistic):           7.85e-36\n",
      "Time:                        22:03:58   Log-Likelihood:                -422.57\n",
      "No. Observations:                 435   AIC:                             853.1\n",
      "Df Residuals:                     431   BIC:                             869.4\n",
      "Df Model:                           3                                         \n",
      "Covariance Type:            nonrobust                                         \n",
      "====================================================================================\n",
      "                       coef    std err          t      P>|t|      [0.025      0.975]\n",
      "------------------------------------------------------------------------------------\n",
      "const                0.2386      0.239      0.997      0.319      -0.232       0.709\n",
      "free_bikes           0.0384      0.004     10.439      0.000       0.031       0.046\n",
      "distance_on_yelp     0.0007      0.000      6.730      0.000       0.001       0.001\n",
      "rating               0.0843      0.058      1.456      0.146      -0.030       0.198\n",
      "==============================================================================\n",
      "Omnibus:                      282.264   Durbin-Watson:                   1.539\n",
      "Prob(Omnibus):                  0.000   Jarque-Bera (JB):             4622.333\n",
      "Skew:                           2.498   Prob(JB):                         0.00\n",
      "Kurtosis:                      18.168   Cond. No.                     4.72e+03\n",
      "==============================================================================\n",
      "\n",
      "Notes:\n",
      "[1] Standard Errors assume that the covariance matrix of the errors is correctly specified.\n",
      "[2] The condition number is large, 4.72e+03. This might indicate that there are\n",
      "strong multicollinearity or other numerical problems.\n"
     ]
    }
   ],
   "source": [
    "y= grouping_df['name_of_station']\n",
    "X=grouping_df.drop(['name_of_station','price'],axis=1)\n",
    "X=sm.add_constant(X)\n",
    "\n",
    "model=sm.OLS(y,X)\n",
    "results2=model.fit()\n",
    "print(results2.summary())"
   ]
  },
  {
   "cell_type": "markdown",
   "metadata": {},
   "source": [
    "#### we see that the R-squared value has not changed and there is only a slight change in the Adj R-squared so we can move forwaard with droping the rating column"
   ]
  },
  {
   "cell_type": "code",
   "execution_count": 45,
   "metadata": {
    "tags": []
   },
   "outputs": [
    {
     "name": "stdout",
     "output_type": "stream",
     "text": [
      "                            OLS Regression Results                            \n",
      "==============================================================================\n",
      "Dep. Variable:        name_of_station   R-squared:                       0.317\n",
      "Model:                            OLS   Adj. R-squared:                  0.313\n",
      "Method:                 Least Squares   F-statistic:                     100.0\n",
      "Date:                Sun, 10 Dec 2023   Prob (F-statistic):           1.98e-36\n",
      "Time:                        22:04:08   Log-Likelihood:                -423.64\n",
      "No. Observations:                 435   AIC:                             853.3\n",
      "Df Residuals:                     432   BIC:                             865.5\n",
      "Df Model:                           2                                         \n",
      "Covariance Type:            nonrobust                                         \n",
      "====================================================================================\n",
      "                       coef    std err          t      P>|t|      [0.025      0.975]\n",
      "------------------------------------------------------------------------------------\n",
      "const                0.5722      0.069      8.244      0.000       0.436       0.709\n",
      "free_bikes           0.0389      0.004     10.577      0.000       0.032       0.046\n",
      "distance_on_yelp     0.0008      0.000      6.822      0.000       0.001       0.001\n",
      "==============================================================================\n",
      "Omnibus:                      284.534   Durbin-Watson:                   1.533\n",
      "Prob(Omnibus):                  0.000   Jarque-Bera (JB):             4717.112\n",
      "Skew:                           2.523   Prob(JB):                         0.00\n",
      "Kurtosis:                      18.323   Cond. No.                     1.33e+03\n",
      "==============================================================================\n",
      "\n",
      "Notes:\n",
      "[1] Standard Errors assume that the covariance matrix of the errors is correctly specified.\n",
      "[2] The condition number is large, 1.33e+03. This might indicate that there are\n",
      "strong multicollinearity or other numerical problems.\n"
     ]
    }
   ],
   "source": [
    "y= grouping_df['name_of_station']\n",
    "X=grouping_df.drop(['name_of_station','price','rating'],axis=1)\n",
    "X=sm.add_constant(X)\n",
    "\n",
    "model=sm.OLS(y,X)\n",
    "results3=model.fit()\n",
    "print(results3.summary())"
   ]
  },
  {
   "cell_type": "markdown",
   "metadata": {},
   "source": [
    "Provide model output and an interpretation of the results. "
   ]
  },
  {
   "cell_type": "markdown",
   "metadata": {},
   "source": [
    "#### I will go with the result3 created above that shows, with the number of stations increased the count of free bikes increases by 0.03, and the distance coefficient suggest and increase by 0.0008 for an increase in the count of the number of stations in a set of latitudes and longitudes."
   ]
  },
  {
   "cell_type": "markdown",
   "metadata": {},
   "source": [
    "# Stretch"
   ]
  },
  {
   "cell_type": "markdown",
   "metadata": {},
   "source": [
    "How can you turn the regression model into a classification model?"
   ]
  },
  {
   "cell_type": "code",
   "execution_count": null,
   "metadata": {},
   "outputs": [],
   "source": []
  }
 ],
 "metadata": {
  "kernelspec": {
   "display_name": "Python 3 (ipykernel)",
   "language": "python",
   "name": "python3"
  },
  "language_info": {
   "codemirror_mode": {
    "name": "ipython",
    "version": 3
   },
   "file_extension": ".py",
   "mimetype": "text/x-python",
   "name": "python",
   "nbconvert_exporter": "python",
   "pygments_lexer": "ipython3",
   "version": "3.11.5"
  }
 },
 "nbformat": 4,
 "nbformat_minor": 4
}
