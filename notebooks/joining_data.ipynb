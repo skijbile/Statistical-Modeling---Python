{
 "cells": [
  {
   "cell_type": "code",
   "execution_count": 58,
   "metadata": {
    "tags": []
   },
   "outputs": [],
   "source": [
    "import pandas as pd\n",
    "import json\n",
    "import pytz # package to convert time zones\n",
    "import matplotlib.pyplot as plt\n",
    "import seaborn as sns # for visualization\n",
    "import sqlite3\n",
    "from sqlite3 import Error # packages to create databases"
   ]
  },
  {
   "cell_type": "code",
   "execution_count": 59,
   "metadata": {
    "tags": []
   },
   "outputs": [],
   "source": [
    "df_citybikes=pd.read_csv('Paris_data.csv')\n",
    "df_citybikes=df_citybikes.head(500) # limiting my data to 500 to reduce the API request and saving it as a new data frame for this notebook \n",
    "api_df = pd.read_csv('Yelp_data.csv')\n",
    "# store the following table in SQlite"
   ]
  },
  {
   "cell_type": "code",
   "execution_count": 60,
   "metadata": {
    "tags": []
   },
   "outputs": [],
   "source": [
    "# pulling the foursq data base to create table in the data base\n",
    "four_sq_df=pd.read_csv('four_sq_data.csv')"
   ]
  },
  {
   "cell_type": "code",
   "execution_count": 55,
   "metadata": {
    "tags": []
   },
   "outputs": [
    {
     "data": {
      "text/plain": [
       "lat&lon                0\n",
       "name                   0\n",
       "rating                 0\n",
       "reviews                0\n",
       "price               1297\n",
       "address              147\n",
       "distance_on_yelp       0\n",
       "dtype: int64"
      ]
     },
     "execution_count": 55,
     "metadata": {},
     "output_type": "execute_result"
    }
   ],
   "source": [
    "api_df.isnull().sum()"
   ]
  },
  {
   "cell_type": "code",
   "execution_count": 61,
   "metadata": {
    "tags": []
   },
   "outputs": [
    {
     "data": {
      "text/html": [
       "<div>\n",
       "<style scoped>\n",
       "    .dataframe tbody tr th:only-of-type {\n",
       "        vertical-align: middle;\n",
       "    }\n",
       "\n",
       "    .dataframe tbody tr th {\n",
       "        vertical-align: top;\n",
       "    }\n",
       "\n",
       "    .dataframe thead th {\n",
       "        text-align: right;\n",
       "    }\n",
       "</style>\n",
       "<table border=\"1\" class=\"dataframe\">\n",
       "  <thead>\n",
       "    <tr style=\"text-align: right;\">\n",
       "      <th></th>\n",
       "      <th>name_of_station</th>\n",
       "      <th>empty_slots</th>\n",
       "      <th>free_bikes</th>\n",
       "      <th>timestamp</th>\n",
       "      <th>lat&amp;lon</th>\n",
       "    </tr>\n",
       "  </thead>\n",
       "  <tbody>\n",
       "    <tr>\n",
       "      <th>0</th>\n",
       "      <td>Benjamin Godard - Victor Hugo</td>\n",
       "      <td>32</td>\n",
       "      <td>3</td>\n",
       "      <td>2023-12-04T04:49:10.102000Z</td>\n",
       "      <td>48.865983_2.275725</td>\n",
       "    </tr>\n",
       "    <tr>\n",
       "      <th>1</th>\n",
       "      <td>André Mazet - Saint-André des Arts</td>\n",
       "      <td>33</td>\n",
       "      <td>21</td>\n",
       "      <td>2023-12-04T04:49:09.860000Z</td>\n",
       "      <td>48.853756_2.339096</td>\n",
       "    </tr>\n",
       "    <tr>\n",
       "      <th>2</th>\n",
       "      <td>Faubourg Du Temple - Republique</td>\n",
       "      <td>26</td>\n",
       "      <td>11</td>\n",
       "      <td>2023-12-04T04:49:07.405000Z</td>\n",
       "      <td>48.867872_2.364898</td>\n",
       "    </tr>\n",
       "    <tr>\n",
       "      <th>3</th>\n",
       "      <td>Beaux-Arts - Bonaparte</td>\n",
       "      <td>11</td>\n",
       "      <td>9</td>\n",
       "      <td>2023-12-04T04:49:07.921000Z</td>\n",
       "      <td>48.856452_2.334852</td>\n",
       "    </tr>\n",
       "    <tr>\n",
       "      <th>4</th>\n",
       "      <td>Toudouze - Clauzel</td>\n",
       "      <td>15</td>\n",
       "      <td>6</td>\n",
       "      <td>2023-12-04T04:49:08.016000Z</td>\n",
       "      <td>48.879296_2.33736</td>\n",
       "    </tr>\n",
       "    <tr>\n",
       "      <th>...</th>\n",
       "      <td>...</td>\n",
       "      <td>...</td>\n",
       "      <td>...</td>\n",
       "      <td>...</td>\n",
       "      <td>...</td>\n",
       "    </tr>\n",
       "    <tr>\n",
       "      <th>495</th>\n",
       "      <td>Mozart - Jasmin</td>\n",
       "      <td>60</td>\n",
       "      <td>1</td>\n",
       "      <td>2023-12-04T04:49:07.954000Z</td>\n",
       "      <td>48.852861_2.268484</td>\n",
       "    </tr>\n",
       "    <tr>\n",
       "      <th>496</th>\n",
       "      <td>Boulets - Faubourg Saint-Antoine</td>\n",
       "      <td>36</td>\n",
       "      <td>7</td>\n",
       "      <td>2023-12-04T04:49:08.860000Z</td>\n",
       "      <td>48.849259_2.391755</td>\n",
       "    </tr>\n",
       "    <tr>\n",
       "      <th>497</th>\n",
       "      <td>Haies - Réunion</td>\n",
       "      <td>16</td>\n",
       "      <td>6</td>\n",
       "      <td>2023-12-04T04:49:08.680000Z</td>\n",
       "      <td>48.853869_2.402426</td>\n",
       "    </tr>\n",
       "    <tr>\n",
       "      <th>498</th>\n",
       "      <td>Maine - Antoine Bourdelle</td>\n",
       "      <td>14</td>\n",
       "      <td>3</td>\n",
       "      <td>2023-12-04T04:49:10.012000Z</td>\n",
       "      <td>48.843085_2.320264</td>\n",
       "    </tr>\n",
       "    <tr>\n",
       "      <th>499</th>\n",
       "      <td>Kléber - Gouverneur Général Eboué</td>\n",
       "      <td>9</td>\n",
       "      <td>13</td>\n",
       "      <td>2023-12-04T04:49:08.873000Z</td>\n",
       "      <td>48.826886_2.272341</td>\n",
       "    </tr>\n",
       "  </tbody>\n",
       "</table>\n",
       "<p>500 rows × 5 columns</p>\n",
       "</div>"
      ],
      "text/plain": [
       "                        name_of_station  empty_slots  free_bikes  \\\n",
       "0         Benjamin Godard - Victor Hugo           32           3   \n",
       "1    André Mazet - Saint-André des Arts           33          21   \n",
       "2       Faubourg Du Temple - Republique           26          11   \n",
       "3                Beaux-Arts - Bonaparte           11           9   \n",
       "4                    Toudouze - Clauzel           15           6   \n",
       "..                                  ...          ...         ...   \n",
       "495                     Mozart - Jasmin           60           1   \n",
       "496    Boulets - Faubourg Saint-Antoine           36           7   \n",
       "497                     Haies - Réunion           16           6   \n",
       "498           Maine - Antoine Bourdelle           14           3   \n",
       "499   Kléber - Gouverneur Général Eboué            9          13   \n",
       "\n",
       "                       timestamp             lat&lon  \n",
       "0    2023-12-04T04:49:10.102000Z  48.865983_2.275725  \n",
       "1    2023-12-04T04:49:09.860000Z  48.853756_2.339096  \n",
       "2    2023-12-04T04:49:07.405000Z  48.867872_2.364898  \n",
       "3    2023-12-04T04:49:07.921000Z  48.856452_2.334852  \n",
       "4    2023-12-04T04:49:08.016000Z   48.879296_2.33736  \n",
       "..                           ...                 ...  \n",
       "495  2023-12-04T04:49:07.954000Z  48.852861_2.268484  \n",
       "496  2023-12-04T04:49:08.860000Z  48.849259_2.391755  \n",
       "497  2023-12-04T04:49:08.680000Z  48.853869_2.402426  \n",
       "498  2023-12-04T04:49:10.012000Z  48.843085_2.320264  \n",
       "499  2023-12-04T04:49:08.873000Z  48.826886_2.272341  \n",
       "\n",
       "[500 rows x 5 columns]"
      ]
     },
     "execution_count": 61,
     "metadata": {},
     "output_type": "execute_result"
    }
   ],
   "source": [
    "df_citybikes.drop(columns=[\"latitude\",\"longitude\"])"
   ]
  },
  {
   "cell_type": "code",
   "execution_count": null,
   "metadata": {},
   "outputs": [],
   "source": []
  },
  {
   "cell_type": "markdown",
   "metadata": {},
   "source": [
    "Join the data from Part 1 with the data from Part 2 to create a new dataframe."
   ]
  },
  {
   "cell_type": "code",
   "execution_count": 62,
   "metadata": {},
   "outputs": [
    {
     "data": {
      "text/html": [
       "<div>\n",
       "<style scoped>\n",
       "    .dataframe tbody tr th:only-of-type {\n",
       "        vertical-align: middle;\n",
       "    }\n",
       "\n",
       "    .dataframe tbody tr th {\n",
       "        vertical-align: top;\n",
       "    }\n",
       "\n",
       "    .dataframe thead th {\n",
       "        text-align: right;\n",
       "    }\n",
       "</style>\n",
       "<table border=\"1\" class=\"dataframe\">\n",
       "  <thead>\n",
       "    <tr style=\"text-align: right;\">\n",
       "      <th></th>\n",
       "      <th>name_of_station</th>\n",
       "      <th>empty_slots</th>\n",
       "      <th>free_bikes</th>\n",
       "      <th>latitude</th>\n",
       "      <th>longitude</th>\n",
       "      <th>timestamp</th>\n",
       "      <th>lat&amp;lon</th>\n",
       "      <th>name</th>\n",
       "      <th>rating</th>\n",
       "      <th>reviews</th>\n",
       "      <th>price</th>\n",
       "      <th>address</th>\n",
       "      <th>distance_on_yelp</th>\n",
       "    </tr>\n",
       "  </thead>\n",
       "  <tbody>\n",
       "    <tr>\n",
       "      <th>0</th>\n",
       "      <td>Benjamin Godard - Victor Hugo</td>\n",
       "      <td>32</td>\n",
       "      <td>3</td>\n",
       "      <td>48.865983</td>\n",
       "      <td>2.275725</td>\n",
       "      <td>2023-12-04T04:49:10.102000Z</td>\n",
       "      <td>48.865983_2.275725</td>\n",
       "      <td>La Coïncidence</td>\n",
       "      <td>4.5</td>\n",
       "      <td>509</td>\n",
       "      <td>2.0</td>\n",
       "      <td>15 rue Mesnil</td>\n",
       "      <td>675.0</td>\n",
       "    </tr>\n",
       "    <tr>\n",
       "      <th>1</th>\n",
       "      <td>Benjamin Godard - Victor Hugo</td>\n",
       "      <td>32</td>\n",
       "      <td>3</td>\n",
       "      <td>48.865983</td>\n",
       "      <td>2.275725</td>\n",
       "      <td>2023-12-04T04:49:10.102000Z</td>\n",
       "      <td>48.865983_2.275725</td>\n",
       "      <td>Le Poincaré</td>\n",
       "      <td>4.0</td>\n",
       "      <td>150</td>\n",
       "      <td>2.0</td>\n",
       "      <td>22 avenue Raymond Poincaré</td>\n",
       "      <td>796.0</td>\n",
       "    </tr>\n",
       "    <tr>\n",
       "      <th>2</th>\n",
       "      <td>Benjamin Godard - Victor Hugo</td>\n",
       "      <td>32</td>\n",
       "      <td>3</td>\n",
       "      <td>48.865983</td>\n",
       "      <td>2.275725</td>\n",
       "      <td>2023-12-04T04:49:10.102000Z</td>\n",
       "      <td>48.865983_2.275725</td>\n",
       "      <td>Crêperie Framboise Passy-Trocadéro</td>\n",
       "      <td>4.5</td>\n",
       "      <td>65</td>\n",
       "      <td>2.0</td>\n",
       "      <td>10 bd Delessert</td>\n",
       "      <td>1046.0</td>\n",
       "    </tr>\n",
       "    <tr>\n",
       "      <th>3</th>\n",
       "      <td>Benjamin Godard - Victor Hugo</td>\n",
       "      <td>32</td>\n",
       "      <td>3</td>\n",
       "      <td>48.865983</td>\n",
       "      <td>2.275725</td>\n",
       "      <td>2023-12-04T04:49:10.102000Z</td>\n",
       "      <td>48.865983_2.275725</td>\n",
       "      <td>Sgabetti</td>\n",
       "      <td>4.5</td>\n",
       "      <td>40</td>\n",
       "      <td>2.0</td>\n",
       "      <td>15 rue Sablons</td>\n",
       "      <td>581.0</td>\n",
       "    </tr>\n",
       "    <tr>\n",
       "      <th>4</th>\n",
       "      <td>Benjamin Godard - Victor Hugo</td>\n",
       "      <td>32</td>\n",
       "      <td>3</td>\n",
       "      <td>48.865983</td>\n",
       "      <td>2.275725</td>\n",
       "      <td>2023-12-04T04:49:10.102000Z</td>\n",
       "      <td>48.865983_2.275725</td>\n",
       "      <td>L'Astrance</td>\n",
       "      <td>4.5</td>\n",
       "      <td>64</td>\n",
       "      <td>4.0</td>\n",
       "      <td>4 rue Beethoven</td>\n",
       "      <td>1194.0</td>\n",
       "    </tr>\n",
       "    <tr>\n",
       "      <th>...</th>\n",
       "      <td>...</td>\n",
       "      <td>...</td>\n",
       "      <td>...</td>\n",
       "      <td>...</td>\n",
       "      <td>...</td>\n",
       "      <td>...</td>\n",
       "      <td>...</td>\n",
       "      <td>...</td>\n",
       "      <td>...</td>\n",
       "      <td>...</td>\n",
       "      <td>...</td>\n",
       "      <td>...</td>\n",
       "      <td>...</td>\n",
       "    </tr>\n",
       "    <tr>\n",
       "      <th>815</th>\n",
       "      <td>Square Saint-Ambroise</td>\n",
       "      <td>30</td>\n",
       "      <td>11</td>\n",
       "      <td>48.860934</td>\n",
       "      <td>2.375841</td>\n",
       "      <td>2023-12-04T04:49:08.992000Z</td>\n",
       "      <td>48.860934_2.375841</td>\n",
       "      <td>Paparotti</td>\n",
       "      <td>4.0</td>\n",
       "      <td>4</td>\n",
       "      <td>NaN</td>\n",
       "      <td>14 rue Victor Griffuelhes</td>\n",
       "      <td>126.0</td>\n",
       "    </tr>\n",
       "    <tr>\n",
       "      <th>816</th>\n",
       "      <td>Square Saint-Ambroise</td>\n",
       "      <td>30</td>\n",
       "      <td>11</td>\n",
       "      <td>48.860934</td>\n",
       "      <td>2.375841</td>\n",
       "      <td>2023-12-04T04:49:08.992000Z</td>\n",
       "      <td>48.860934_2.375841</td>\n",
       "      <td>Café Chérie</td>\n",
       "      <td>3.5</td>\n",
       "      <td>21</td>\n",
       "      <td>2.0</td>\n",
       "      <td>1 rue des 4 Cheminées</td>\n",
       "      <td>263.0</td>\n",
       "    </tr>\n",
       "    <tr>\n",
       "      <th>817</th>\n",
       "      <td>Square Saint-Ambroise</td>\n",
       "      <td>30</td>\n",
       "      <td>11</td>\n",
       "      <td>48.860934</td>\n",
       "      <td>2.375841</td>\n",
       "      <td>2023-12-04T04:49:08.992000Z</td>\n",
       "      <td>48.860934_2.375841</td>\n",
       "      <td>Chez Madeleine</td>\n",
       "      <td>4.5</td>\n",
       "      <td>21</td>\n",
       "      <td>2.0</td>\n",
       "      <td>39 rue de Paris</td>\n",
       "      <td>997.0</td>\n",
       "    </tr>\n",
       "    <tr>\n",
       "      <th>818</th>\n",
       "      <td>Square Saint-Ambroise</td>\n",
       "      <td>30</td>\n",
       "      <td>11</td>\n",
       "      <td>48.860934</td>\n",
       "      <td>2.375841</td>\n",
       "      <td>2023-12-04T04:49:08.992000Z</td>\n",
       "      <td>48.860934_2.375841</td>\n",
       "      <td>Sitar</td>\n",
       "      <td>3.5</td>\n",
       "      <td>13</td>\n",
       "      <td>1.0</td>\n",
       "      <td>7 rue liot</td>\n",
       "      <td>84.0</td>\n",
       "    </tr>\n",
       "    <tr>\n",
       "      <th>819</th>\n",
       "      <td>Square Saint-Ambroise</td>\n",
       "      <td>30</td>\n",
       "      <td>11</td>\n",
       "      <td>48.860934</td>\n",
       "      <td>2.375841</td>\n",
       "      <td>2023-12-04T04:49:08.992000Z</td>\n",
       "      <td>48.860934_2.375841</td>\n",
       "      <td>Tindari</td>\n",
       "      <td>4.5</td>\n",
       "      <td>2</td>\n",
       "      <td>2.0</td>\n",
       "      <td>2 rue liot</td>\n",
       "      <td>60.0</td>\n",
       "    </tr>\n",
       "  </tbody>\n",
       "</table>\n",
       "<p>820 rows × 13 columns</p>\n",
       "</div>"
      ],
      "text/plain": [
       "                   name_of_station  empty_slots  free_bikes   latitude  \\\n",
       "0    Benjamin Godard - Victor Hugo           32           3  48.865983   \n",
       "1    Benjamin Godard - Victor Hugo           32           3  48.865983   \n",
       "2    Benjamin Godard - Victor Hugo           32           3  48.865983   \n",
       "3    Benjamin Godard - Victor Hugo           32           3  48.865983   \n",
       "4    Benjamin Godard - Victor Hugo           32           3  48.865983   \n",
       "..                             ...          ...         ...        ...   \n",
       "815          Square Saint-Ambroise           30          11  48.860934   \n",
       "816          Square Saint-Ambroise           30          11  48.860934   \n",
       "817          Square Saint-Ambroise           30          11  48.860934   \n",
       "818          Square Saint-Ambroise           30          11  48.860934   \n",
       "819          Square Saint-Ambroise           30          11  48.860934   \n",
       "\n",
       "     longitude                    timestamp             lat&lon  \\\n",
       "0     2.275725  2023-12-04T04:49:10.102000Z  48.865983_2.275725   \n",
       "1     2.275725  2023-12-04T04:49:10.102000Z  48.865983_2.275725   \n",
       "2     2.275725  2023-12-04T04:49:10.102000Z  48.865983_2.275725   \n",
       "3     2.275725  2023-12-04T04:49:10.102000Z  48.865983_2.275725   \n",
       "4     2.275725  2023-12-04T04:49:10.102000Z  48.865983_2.275725   \n",
       "..         ...                          ...                 ...   \n",
       "815   2.375841  2023-12-04T04:49:08.992000Z  48.860934_2.375841   \n",
       "816   2.375841  2023-12-04T04:49:08.992000Z  48.860934_2.375841   \n",
       "817   2.375841  2023-12-04T04:49:08.992000Z  48.860934_2.375841   \n",
       "818   2.375841  2023-12-04T04:49:08.992000Z  48.860934_2.375841   \n",
       "819   2.375841  2023-12-04T04:49:08.992000Z  48.860934_2.375841   \n",
       "\n",
       "                                   name  rating  reviews  price  \\\n",
       "0                        La Coïncidence     4.5      509    2.0   \n",
       "1                           Le Poincaré     4.0      150    2.0   \n",
       "2    Crêperie Framboise Passy-Trocadéro     4.5       65    2.0   \n",
       "3                              Sgabetti     4.5       40    2.0   \n",
       "4                            L'Astrance     4.5       64    4.0   \n",
       "..                                  ...     ...      ...    ...   \n",
       "815                           Paparotti     4.0        4    NaN   \n",
       "816                         Café Chérie     3.5       21    2.0   \n",
       "817                      Chez Madeleine     4.5       21    2.0   \n",
       "818                               Sitar     3.5       13    1.0   \n",
       "819                             Tindari     4.5        2    2.0   \n",
       "\n",
       "                        address  distance_on_yelp  \n",
       "0                 15 rue Mesnil             675.0  \n",
       "1    22 avenue Raymond Poincaré             796.0  \n",
       "2               10 bd Delessert            1046.0  \n",
       "3                15 rue Sablons             581.0  \n",
       "4               4 rue Beethoven            1194.0  \n",
       "..                          ...               ...  \n",
       "815   14 rue Victor Griffuelhes             126.0  \n",
       "816       1 rue des 4 Cheminées             263.0  \n",
       "817             39 rue de Paris             997.0  \n",
       "818                  7 rue liot              84.0  \n",
       "819                  2 rue liot              60.0  \n",
       "\n",
       "[820 rows x 13 columns]"
      ]
     },
     "execution_count": 62,
     "metadata": {},
     "output_type": "execute_result"
    }
   ],
   "source": [
    "Paris_merged_df = pd.merge(df_citybikes,api_df,on=\"lat&lon\")\n",
    "Paris_merged_df"
   ]
  },
  {
   "cell_type": "code",
   "execution_count": 63,
   "metadata": {
    "tags": []
   },
   "outputs": [
    {
     "data": {
      "text/html": [
       "<div>\n",
       "<style scoped>\n",
       "    .dataframe tbody tr th:only-of-type {\n",
       "        vertical-align: middle;\n",
       "    }\n",
       "\n",
       "    .dataframe tbody tr th {\n",
       "        vertical-align: top;\n",
       "    }\n",
       "\n",
       "    .dataframe thead th {\n",
       "        text-align: right;\n",
       "    }\n",
       "</style>\n",
       "<table border=\"1\" class=\"dataframe\">\n",
       "  <thead>\n",
       "    <tr style=\"text-align: right;\">\n",
       "      <th></th>\n",
       "      <th>name_of_station</th>\n",
       "      <th>free_bikes</th>\n",
       "      <th>distance_on_yelp</th>\n",
       "    </tr>\n",
       "    <tr>\n",
       "      <th>name</th>\n",
       "      <th></th>\n",
       "      <th></th>\n",
       "      <th></th>\n",
       "    </tr>\n",
       "  </thead>\n",
       "  <tbody>\n",
       "    <tr>\n",
       "      <th>Bustronome</th>\n",
       "      <td>9</td>\n",
       "      <td>119</td>\n",
       "      <td>8486.0</td>\n",
       "    </tr>\n",
       "    <tr>\n",
       "      <th>Schwartz's Deli</th>\n",
       "      <td>5</td>\n",
       "      <td>55</td>\n",
       "      <td>1063.0</td>\n",
       "    </tr>\n",
       "    <tr>\n",
       "      <th>Lao Viet</th>\n",
       "      <td>2</td>\n",
       "      <td>49</td>\n",
       "      <td>1087.0</td>\n",
       "    </tr>\n",
       "    <tr>\n",
       "      <th>John Viande</th>\n",
       "      <td>8</td>\n",
       "      <td>48</td>\n",
       "      <td>941.0</td>\n",
       "    </tr>\n",
       "    <tr>\n",
       "      <th>Da Franco</th>\n",
       "      <td>3</td>\n",
       "      <td>45</td>\n",
       "      <td>1117.0</td>\n",
       "    </tr>\n",
       "    <tr>\n",
       "      <th>...</th>\n",
       "      <td>...</td>\n",
       "      <td>...</td>\n",
       "      <td>...</td>\n",
       "    </tr>\n",
       "    <tr>\n",
       "      <th>Au Bon Coin</th>\n",
       "      <td>1</td>\n",
       "      <td>0</td>\n",
       "      <td>236.0</td>\n",
       "    </tr>\n",
       "    <tr>\n",
       "      <th>Les Trois 8</th>\n",
       "      <td>1</td>\n",
       "      <td>0</td>\n",
       "      <td>787.0</td>\n",
       "    </tr>\n",
       "    <tr>\n",
       "      <th>Leslie Road</th>\n",
       "      <td>1</td>\n",
       "      <td>0</td>\n",
       "      <td>216.0</td>\n",
       "    </tr>\n",
       "    <tr>\n",
       "      <th>Royal Fata</th>\n",
       "      <td>1</td>\n",
       "      <td>0</td>\n",
       "      <td>393.0</td>\n",
       "    </tr>\n",
       "    <tr>\n",
       "      <th>Cimetière du Père Lachaise</th>\n",
       "      <td>1</td>\n",
       "      <td>0</td>\n",
       "      <td>916.0</td>\n",
       "    </tr>\n",
       "  </tbody>\n",
       "</table>\n",
       "<p>552 rows × 3 columns</p>\n",
       "</div>"
      ],
      "text/plain": [
       "                            name_of_station  free_bikes  distance_on_yelp\n",
       "name                                                                     \n",
       "Bustronome                                9         119            8486.0\n",
       "Schwartz's Deli                           5          55            1063.0\n",
       "Lao Viet                                  2          49            1087.0\n",
       "John Viande                               8          48             941.0\n",
       "Da Franco                                 3          45            1117.0\n",
       "...                                     ...         ...               ...\n",
       "Au Bon Coin                               1           0             236.0\n",
       "Les Trois 8                               1           0             787.0\n",
       "Leslie Road                               1           0             216.0\n",
       "Royal Fata                                1           0             393.0\n",
       "Cimetière du Père Lachaise                1           0             916.0\n",
       "\n",
       "[552 rows x 3 columns]"
      ]
     },
     "execution_count": 63,
     "metadata": {},
     "output_type": "execute_result"
    }
   ],
   "source": [
    "# to show the number of station close to a business\n",
    "grouping_df = Paris_merged_df.groupby('name').agg({'name_of_station':'count' ,\n",
    "                                     'free_bikes':'sum',\n",
    "                                     'distance_on_yelp':'max'}).sort_values(ascending=False,by='free_bikes')\n",
    "grouping_df"
   ]
  },
  {
   "cell_type": "markdown",
   "metadata": {},
   "source": [
    "Provide a visualization that you used as part of your EDA process. Explain the initial pattern or relationship you discoved through this visualization. "
   ]
  },
  {
   "cell_type": "code",
   "execution_count": 101,
   "metadata": {},
   "outputs": [
    {
     "name": "stdout",
     "output_type": "stream",
     "text": [
      "<class 'pandas.core.frame.DataFrame'>\n",
      "Index: 813 entries, 0 to 819\n",
      "Data columns (total 14 columns):\n",
      " #   Column              Non-Null Count  Dtype                           \n",
      "---  ------              --------------  -----                           \n",
      " 0   name_of_station     813 non-null    object                          \n",
      " 1   empty_slots         813 non-null    int64                           \n",
      " 2   free_bikes          813 non-null    int64                           \n",
      " 3   latitude            813 non-null    float64                         \n",
      " 4   longitude           813 non-null    float64                         \n",
      " 5   timestamp           813 non-null    datetime64[ns, UTC]             \n",
      " 6   lat&lon             813 non-null    object                          \n",
      " 7   name                813 non-null    object                          \n",
      " 8   rating              813 non-null    float64                         \n",
      " 9   reviews             813 non-null    int64                           \n",
      " 10  price               723 non-null    float64                         \n",
      " 11  address             813 non-null    object                          \n",
      " 12  distance_on_yelp    813 non-null    float64                         \n",
      " 13  timestamp_edmonton  813 non-null    datetime64[ns, America/Edmonton]\n",
      "dtypes: datetime64[ns, America/Edmonton](1), datetime64[ns, UTC](1), float64(5), int64(3), object(4)\n",
      "memory usage: 95.3+ KB\n"
     ]
    }
   ],
   "source": [
    "Paris_merged_df.info()"
   ]
  },
  {
   "cell_type": "code",
   "execution_count": 64,
   "metadata": {
    "tags": []
   },
   "outputs": [],
   "source": [
    "# dropping rows wil null values in address as it is a very small percentage of data\n",
    "Paris_merged_df=Paris_merged_df.dropna(subset=['address'])\n"
   ]
  },
  {
   "cell_type": "code",
   "execution_count": 65,
   "metadata": {
    "tags": []
   },
   "outputs": [
    {
     "name": "stderr",
     "output_type": "stream",
     "text": [
      "C:\\Users\\shrut\\AppData\\Local\\Temp\\ipykernel_1600\\3305405866.py:2: SettingWithCopyWarning: \n",
      "A value is trying to be set on a copy of a slice from a DataFrame.\n",
      "Try using .loc[row_indexer,col_indexer] = value instead\n",
      "\n",
      "See the caveats in the documentation: https://pandas.pydata.org/pandas-docs/stable/user_guide/indexing.html#returning-a-view-versus-a-copy\n",
      "  Paris_merged_df['timestamp']=pd.to_datetime(Paris_merged_df['timestamp'])\n",
      "C:\\Users\\shrut\\AppData\\Local\\Temp\\ipykernel_1600\\3305405866.py:5: SettingWithCopyWarning: \n",
      "A value is trying to be set on a copy of a slice from a DataFrame.\n",
      "Try using .loc[row_indexer,col_indexer] = value instead\n",
      "\n",
      "See the caveats in the documentation: https://pandas.pydata.org/pandas-docs/stable/user_guide/indexing.html#returning-a-view-versus-a-copy\n",
      "  Paris_merged_df['timestamp_edmonton'] = Paris_merged_df['timestamp'].dt.tz_convert(edmonton_timezone)\n"
     ]
    },
    {
     "data": {
      "text/html": [
       "<div>\n",
       "<style scoped>\n",
       "    .dataframe tbody tr th:only-of-type {\n",
       "        vertical-align: middle;\n",
       "    }\n",
       "\n",
       "    .dataframe tbody tr th {\n",
       "        vertical-align: top;\n",
       "    }\n",
       "\n",
       "    .dataframe thead th {\n",
       "        text-align: right;\n",
       "    }\n",
       "</style>\n",
       "<table border=\"1\" class=\"dataframe\">\n",
       "  <thead>\n",
       "    <tr style=\"text-align: right;\">\n",
       "      <th></th>\n",
       "      <th>name_of_station</th>\n",
       "      <th>empty_slots</th>\n",
       "      <th>free_bikes</th>\n",
       "      <th>latitude</th>\n",
       "      <th>longitude</th>\n",
       "      <th>timestamp</th>\n",
       "      <th>lat&amp;lon</th>\n",
       "      <th>name</th>\n",
       "      <th>rating</th>\n",
       "      <th>reviews</th>\n",
       "      <th>price</th>\n",
       "      <th>address</th>\n",
       "      <th>distance_on_yelp</th>\n",
       "      <th>timestamp_edmonton</th>\n",
       "    </tr>\n",
       "  </thead>\n",
       "  <tbody>\n",
       "    <tr>\n",
       "      <th>0</th>\n",
       "      <td>Benjamin Godard - Victor Hugo</td>\n",
       "      <td>32</td>\n",
       "      <td>3</td>\n",
       "      <td>48.865983</td>\n",
       "      <td>2.275725</td>\n",
       "      <td>2023-12-04 04:49:10.102000+00:00</td>\n",
       "      <td>48.865983_2.275725</td>\n",
       "      <td>La Coïncidence</td>\n",
       "      <td>4.5</td>\n",
       "      <td>509</td>\n",
       "      <td>2.0</td>\n",
       "      <td>15 rue Mesnil</td>\n",
       "      <td>675.0</td>\n",
       "      <td>2023-12-03 21:49:10.102000-07:00</td>\n",
       "    </tr>\n",
       "    <tr>\n",
       "      <th>1</th>\n",
       "      <td>Benjamin Godard - Victor Hugo</td>\n",
       "      <td>32</td>\n",
       "      <td>3</td>\n",
       "      <td>48.865983</td>\n",
       "      <td>2.275725</td>\n",
       "      <td>2023-12-04 04:49:10.102000+00:00</td>\n",
       "      <td>48.865983_2.275725</td>\n",
       "      <td>Le Poincaré</td>\n",
       "      <td>4.0</td>\n",
       "      <td>150</td>\n",
       "      <td>2.0</td>\n",
       "      <td>22 avenue Raymond Poincaré</td>\n",
       "      <td>796.0</td>\n",
       "      <td>2023-12-03 21:49:10.102000-07:00</td>\n",
       "    </tr>\n",
       "    <tr>\n",
       "      <th>2</th>\n",
       "      <td>Benjamin Godard - Victor Hugo</td>\n",
       "      <td>32</td>\n",
       "      <td>3</td>\n",
       "      <td>48.865983</td>\n",
       "      <td>2.275725</td>\n",
       "      <td>2023-12-04 04:49:10.102000+00:00</td>\n",
       "      <td>48.865983_2.275725</td>\n",
       "      <td>Crêperie Framboise Passy-Trocadéro</td>\n",
       "      <td>4.5</td>\n",
       "      <td>65</td>\n",
       "      <td>2.0</td>\n",
       "      <td>10 bd Delessert</td>\n",
       "      <td>1046.0</td>\n",
       "      <td>2023-12-03 21:49:10.102000-07:00</td>\n",
       "    </tr>\n",
       "    <tr>\n",
       "      <th>3</th>\n",
       "      <td>Benjamin Godard - Victor Hugo</td>\n",
       "      <td>32</td>\n",
       "      <td>3</td>\n",
       "      <td>48.865983</td>\n",
       "      <td>2.275725</td>\n",
       "      <td>2023-12-04 04:49:10.102000+00:00</td>\n",
       "      <td>48.865983_2.275725</td>\n",
       "      <td>Sgabetti</td>\n",
       "      <td>4.5</td>\n",
       "      <td>40</td>\n",
       "      <td>2.0</td>\n",
       "      <td>15 rue Sablons</td>\n",
       "      <td>581.0</td>\n",
       "      <td>2023-12-03 21:49:10.102000-07:00</td>\n",
       "    </tr>\n",
       "    <tr>\n",
       "      <th>4</th>\n",
       "      <td>Benjamin Godard - Victor Hugo</td>\n",
       "      <td>32</td>\n",
       "      <td>3</td>\n",
       "      <td>48.865983</td>\n",
       "      <td>2.275725</td>\n",
       "      <td>2023-12-04 04:49:10.102000+00:00</td>\n",
       "      <td>48.865983_2.275725</td>\n",
       "      <td>L'Astrance</td>\n",
       "      <td>4.5</td>\n",
       "      <td>64</td>\n",
       "      <td>4.0</td>\n",
       "      <td>4 rue Beethoven</td>\n",
       "      <td>1194.0</td>\n",
       "      <td>2023-12-03 21:49:10.102000-07:00</td>\n",
       "    </tr>\n",
       "    <tr>\n",
       "      <th>...</th>\n",
       "      <td>...</td>\n",
       "      <td>...</td>\n",
       "      <td>...</td>\n",
       "      <td>...</td>\n",
       "      <td>...</td>\n",
       "      <td>...</td>\n",
       "      <td>...</td>\n",
       "      <td>...</td>\n",
       "      <td>...</td>\n",
       "      <td>...</td>\n",
       "      <td>...</td>\n",
       "      <td>...</td>\n",
       "      <td>...</td>\n",
       "      <td>...</td>\n",
       "    </tr>\n",
       "    <tr>\n",
       "      <th>815</th>\n",
       "      <td>Square Saint-Ambroise</td>\n",
       "      <td>30</td>\n",
       "      <td>11</td>\n",
       "      <td>48.860934</td>\n",
       "      <td>2.375841</td>\n",
       "      <td>2023-12-04 04:49:08.992000+00:00</td>\n",
       "      <td>48.860934_2.375841</td>\n",
       "      <td>Paparotti</td>\n",
       "      <td>4.0</td>\n",
       "      <td>4</td>\n",
       "      <td>NaN</td>\n",
       "      <td>14 rue Victor Griffuelhes</td>\n",
       "      <td>126.0</td>\n",
       "      <td>2023-12-03 21:49:08.992000-07:00</td>\n",
       "    </tr>\n",
       "    <tr>\n",
       "      <th>816</th>\n",
       "      <td>Square Saint-Ambroise</td>\n",
       "      <td>30</td>\n",
       "      <td>11</td>\n",
       "      <td>48.860934</td>\n",
       "      <td>2.375841</td>\n",
       "      <td>2023-12-04 04:49:08.992000+00:00</td>\n",
       "      <td>48.860934_2.375841</td>\n",
       "      <td>Café Chérie</td>\n",
       "      <td>3.5</td>\n",
       "      <td>21</td>\n",
       "      <td>2.0</td>\n",
       "      <td>1 rue des 4 Cheminées</td>\n",
       "      <td>263.0</td>\n",
       "      <td>2023-12-03 21:49:08.992000-07:00</td>\n",
       "    </tr>\n",
       "    <tr>\n",
       "      <th>817</th>\n",
       "      <td>Square Saint-Ambroise</td>\n",
       "      <td>30</td>\n",
       "      <td>11</td>\n",
       "      <td>48.860934</td>\n",
       "      <td>2.375841</td>\n",
       "      <td>2023-12-04 04:49:08.992000+00:00</td>\n",
       "      <td>48.860934_2.375841</td>\n",
       "      <td>Chez Madeleine</td>\n",
       "      <td>4.5</td>\n",
       "      <td>21</td>\n",
       "      <td>2.0</td>\n",
       "      <td>39 rue de Paris</td>\n",
       "      <td>997.0</td>\n",
       "      <td>2023-12-03 21:49:08.992000-07:00</td>\n",
       "    </tr>\n",
       "    <tr>\n",
       "      <th>818</th>\n",
       "      <td>Square Saint-Ambroise</td>\n",
       "      <td>30</td>\n",
       "      <td>11</td>\n",
       "      <td>48.860934</td>\n",
       "      <td>2.375841</td>\n",
       "      <td>2023-12-04 04:49:08.992000+00:00</td>\n",
       "      <td>48.860934_2.375841</td>\n",
       "      <td>Sitar</td>\n",
       "      <td>3.5</td>\n",
       "      <td>13</td>\n",
       "      <td>1.0</td>\n",
       "      <td>7 rue liot</td>\n",
       "      <td>84.0</td>\n",
       "      <td>2023-12-03 21:49:08.992000-07:00</td>\n",
       "    </tr>\n",
       "    <tr>\n",
       "      <th>819</th>\n",
       "      <td>Square Saint-Ambroise</td>\n",
       "      <td>30</td>\n",
       "      <td>11</td>\n",
       "      <td>48.860934</td>\n",
       "      <td>2.375841</td>\n",
       "      <td>2023-12-04 04:49:08.992000+00:00</td>\n",
       "      <td>48.860934_2.375841</td>\n",
       "      <td>Tindari</td>\n",
       "      <td>4.5</td>\n",
       "      <td>2</td>\n",
       "      <td>2.0</td>\n",
       "      <td>2 rue liot</td>\n",
       "      <td>60.0</td>\n",
       "      <td>2023-12-03 21:49:08.992000-07:00</td>\n",
       "    </tr>\n",
       "  </tbody>\n",
       "</table>\n",
       "<p>813 rows × 14 columns</p>\n",
       "</div>"
      ],
      "text/plain": [
       "                   name_of_station  empty_slots  free_bikes   latitude  \\\n",
       "0    Benjamin Godard - Victor Hugo           32           3  48.865983   \n",
       "1    Benjamin Godard - Victor Hugo           32           3  48.865983   \n",
       "2    Benjamin Godard - Victor Hugo           32           3  48.865983   \n",
       "3    Benjamin Godard - Victor Hugo           32           3  48.865983   \n",
       "4    Benjamin Godard - Victor Hugo           32           3  48.865983   \n",
       "..                             ...          ...         ...        ...   \n",
       "815          Square Saint-Ambroise           30          11  48.860934   \n",
       "816          Square Saint-Ambroise           30          11  48.860934   \n",
       "817          Square Saint-Ambroise           30          11  48.860934   \n",
       "818          Square Saint-Ambroise           30          11  48.860934   \n",
       "819          Square Saint-Ambroise           30          11  48.860934   \n",
       "\n",
       "     longitude                        timestamp             lat&lon  \\\n",
       "0     2.275725 2023-12-04 04:49:10.102000+00:00  48.865983_2.275725   \n",
       "1     2.275725 2023-12-04 04:49:10.102000+00:00  48.865983_2.275725   \n",
       "2     2.275725 2023-12-04 04:49:10.102000+00:00  48.865983_2.275725   \n",
       "3     2.275725 2023-12-04 04:49:10.102000+00:00  48.865983_2.275725   \n",
       "4     2.275725 2023-12-04 04:49:10.102000+00:00  48.865983_2.275725   \n",
       "..         ...                              ...                 ...   \n",
       "815   2.375841 2023-12-04 04:49:08.992000+00:00  48.860934_2.375841   \n",
       "816   2.375841 2023-12-04 04:49:08.992000+00:00  48.860934_2.375841   \n",
       "817   2.375841 2023-12-04 04:49:08.992000+00:00  48.860934_2.375841   \n",
       "818   2.375841 2023-12-04 04:49:08.992000+00:00  48.860934_2.375841   \n",
       "819   2.375841 2023-12-04 04:49:08.992000+00:00  48.860934_2.375841   \n",
       "\n",
       "                                   name  rating  reviews  price  \\\n",
       "0                        La Coïncidence     4.5      509    2.0   \n",
       "1                           Le Poincaré     4.0      150    2.0   \n",
       "2    Crêperie Framboise Passy-Trocadéro     4.5       65    2.0   \n",
       "3                              Sgabetti     4.5       40    2.0   \n",
       "4                            L'Astrance     4.5       64    4.0   \n",
       "..                                  ...     ...      ...    ...   \n",
       "815                           Paparotti     4.0        4    NaN   \n",
       "816                         Café Chérie     3.5       21    2.0   \n",
       "817                      Chez Madeleine     4.5       21    2.0   \n",
       "818                               Sitar     3.5       13    1.0   \n",
       "819                             Tindari     4.5        2    2.0   \n",
       "\n",
       "                        address  distance_on_yelp  \\\n",
       "0                 15 rue Mesnil             675.0   \n",
       "1    22 avenue Raymond Poincaré             796.0   \n",
       "2               10 bd Delessert            1046.0   \n",
       "3                15 rue Sablons             581.0   \n",
       "4               4 rue Beethoven            1194.0   \n",
       "..                          ...               ...   \n",
       "815   14 rue Victor Griffuelhes             126.0   \n",
       "816       1 rue des 4 Cheminées             263.0   \n",
       "817             39 rue de Paris             997.0   \n",
       "818                  7 rue liot              84.0   \n",
       "819                  2 rue liot              60.0   \n",
       "\n",
       "                  timestamp_edmonton  \n",
       "0   2023-12-03 21:49:10.102000-07:00  \n",
       "1   2023-12-03 21:49:10.102000-07:00  \n",
       "2   2023-12-03 21:49:10.102000-07:00  \n",
       "3   2023-12-03 21:49:10.102000-07:00  \n",
       "4   2023-12-03 21:49:10.102000-07:00  \n",
       "..                               ...  \n",
       "815 2023-12-03 21:49:08.992000-07:00  \n",
       "816 2023-12-03 21:49:08.992000-07:00  \n",
       "817 2023-12-03 21:49:08.992000-07:00  \n",
       "818 2023-12-03 21:49:08.992000-07:00  \n",
       "819 2023-12-03 21:49:08.992000-07:00  \n",
       "\n",
       "[813 rows x 14 columns]"
      ]
     },
     "execution_count": 65,
     "metadata": {},
     "output_type": "execute_result"
    }
   ],
   "source": [
    "#checking and alter data types of columns if needed\n",
    "Paris_merged_df['timestamp']=pd.to_datetime(Paris_merged_df['timestamp'])\n",
    "# changing the time zone fron UTC to America/Edmonton\n",
    "edmonton_timezone = pytz.timezone('America/Edmonton')\n",
    "Paris_merged_df['timestamp_edmonton'] = Paris_merged_df['timestamp'].dt.tz_convert(edmonton_timezone)\n",
    "Paris_merged_df"
   ]
  },
  {
   "cell_type": "code",
   "execution_count": 131,
   "metadata": {
    "tags": []
   },
   "outputs": [
    {
     "data": {
      "text/html": [
       "<div>\n",
       "<style scoped>\n",
       "    .dataframe tbody tr th:only-of-type {\n",
       "        vertical-align: middle;\n",
       "    }\n",
       "\n",
       "    .dataframe tbody tr th {\n",
       "        vertical-align: top;\n",
       "    }\n",
       "\n",
       "    .dataframe thead th {\n",
       "        text-align: right;\n",
       "    }\n",
       "</style>\n",
       "<table border=\"1\" class=\"dataframe\">\n",
       "  <thead>\n",
       "    <tr style=\"text-align: right;\">\n",
       "      <th></th>\n",
       "      <th>name_of_station</th>\n",
       "      <th>free_bikes</th>\n",
       "      <th>distance_on_yelp</th>\n",
       "    </tr>\n",
       "  </thead>\n",
       "  <tbody>\n",
       "    <tr>\n",
       "      <th>count</th>\n",
       "      <td>548.000000</td>\n",
       "      <td>548.000000</td>\n",
       "      <td>548.000000</td>\n",
       "    </tr>\n",
       "    <tr>\n",
       "      <th>mean</th>\n",
       "      <td>1.483577</td>\n",
       "      <td>11.872263</td>\n",
       "      <td>624.673358</td>\n",
       "    </tr>\n",
       "    <tr>\n",
       "      <th>std</th>\n",
       "      <td>0.954976</td>\n",
       "      <td>10.637200</td>\n",
       "      <td>500.160038</td>\n",
       "    </tr>\n",
       "    <tr>\n",
       "      <th>min</th>\n",
       "      <td>1.000000</td>\n",
       "      <td>0.000000</td>\n",
       "      <td>9.000000</td>\n",
       "    </tr>\n",
       "    <tr>\n",
       "      <th>25%</th>\n",
       "      <td>1.000000</td>\n",
       "      <td>4.000000</td>\n",
       "      <td>282.000000</td>\n",
       "    </tr>\n",
       "    <tr>\n",
       "      <th>50%</th>\n",
       "      <td>1.000000</td>\n",
       "      <td>9.000000</td>\n",
       "      <td>576.000000</td>\n",
       "    </tr>\n",
       "    <tr>\n",
       "      <th>75%</th>\n",
       "      <td>2.000000</td>\n",
       "      <td>17.000000</td>\n",
       "      <td>932.000000</td>\n",
       "    </tr>\n",
       "    <tr>\n",
       "      <th>max</th>\n",
       "      <td>9.000000</td>\n",
       "      <td>119.000000</td>\n",
       "      <td>8486.000000</td>\n",
       "    </tr>\n",
       "  </tbody>\n",
       "</table>\n",
       "</div>"
      ],
      "text/plain": [
       "       name_of_station  free_bikes  distance_on_yelp\n",
       "count       548.000000  548.000000        548.000000\n",
       "mean          1.483577   11.872263        624.673358\n",
       "std           0.954976   10.637200        500.160038\n",
       "min           1.000000    0.000000          9.000000\n",
       "25%           1.000000    4.000000        282.000000\n",
       "50%           1.000000    9.000000        576.000000\n",
       "75%           2.000000   17.000000        932.000000\n",
       "max           9.000000  119.000000       8486.000000"
      ]
     },
     "execution_count": 131,
     "metadata": {},
     "output_type": "execute_result"
    }
   ],
   "source": [
    "grouping_df.describe()"
   ]
  },
  {
   "cell_type": "markdown",
   "metadata": {},
   "source": [
    "#### At this point I am not dropping the null values from the price column as it is a small portion(about 100) in comparision to the data frame we are working with and also i am not directly using it in my model for the purpose of this project."
   ]
  },
  {
   "cell_type": "code",
   "execution_count": 66,
   "metadata": {
    "tags": []
   },
   "outputs": [
    {
     "name": "stderr",
     "output_type": "stream",
     "text": [
      "C:\\Users\\shrut\\anaconda3\\Lib\\site-packages\\seaborn\\axisgrid.py:118: UserWarning: The figure layout has changed to tight\n",
      "  self._figure.tight_layout(*args, **kwargs)\n",
      "C:\\Users\\shrut\\AppData\\Local\\Temp\\ipykernel_1600\\3544419162.py:3: UserWarning: The figure layout has changed to tight\n",
      "  plt.tight_layout()\n"
     ]
    },
    {
     "data": {
      "image/png": "[encoded data removed]",
      "text/plain": [
       "<Figure size 750x750 with 12 Axes>"
      ]
     },
     "metadata": {},
     "output_type": "display_data"
    }
   ],
   "source": [
    "# visualization for the grouped data\n",
    "sns.pairplot(grouping_df)\n",
    "plt.tight_layout()\n",
    "plt.savefig(r\"C:\\Users\\shrut\\Documents\\light house labs\\PROJECTS\\Project 2\\ppt.png\")\n",
    "plt.show()\n"
   ]
  },
  {
   "cell_type": "markdown",
   "metadata": {},
   "source": [
    "##### This plot does not give a very good visualization as it may be due to the extreme value we can see which is the furthest away from a set of coordinates(close to 8500 m). I am going to remove that row and see if we can make a better visual analysis of the data."
   ]
  },
  {
   "cell_type": "code",
   "execution_count": 67,
   "metadata": {
    "tags": []
   },
   "outputs": [
    {
     "data": {
      "text/html": [
       "<div>\n",
       "<style scoped>\n",
       "    .dataframe tbody tr th:only-of-type {\n",
       "        vertical-align: middle;\n",
       "    }\n",
       "\n",
       "    .dataframe tbody tr th {\n",
       "        vertical-align: top;\n",
       "    }\n",
       "\n",
       "    .dataframe thead th {\n",
       "        text-align: right;\n",
       "    }\n",
       "</style>\n",
       "<table border=\"1\" class=\"dataframe\">\n",
       "  <thead>\n",
       "    <tr style=\"text-align: right;\">\n",
       "      <th></th>\n",
       "      <th>name_of_station</th>\n",
       "      <th>free_bikes</th>\n",
       "      <th>distance_on_yelp</th>\n",
       "    </tr>\n",
       "    <tr>\n",
       "      <th>name</th>\n",
       "      <th></th>\n",
       "      <th></th>\n",
       "      <th></th>\n",
       "    </tr>\n",
       "  </thead>\n",
       "  <tbody>\n",
       "    <tr>\n",
       "      <th>John Viande</th>\n",
       "      <td>8</td>\n",
       "      <td>48</td>\n",
       "      <td>941.0</td>\n",
       "    </tr>\n",
       "    <tr>\n",
       "      <th>L'Orange Bleue</th>\n",
       "      <td>4</td>\n",
       "      <td>43</td>\n",
       "      <td>997.0</td>\n",
       "    </tr>\n",
       "    <tr>\n",
       "      <th>Cité des Sciences et de l'Industrie</th>\n",
       "      <td>4</td>\n",
       "      <td>43</td>\n",
       "      <td>927.0</td>\n",
       "    </tr>\n",
       "    <tr>\n",
       "      <th>La Maison Bleue</th>\n",
       "      <td>7</td>\n",
       "      <td>31</td>\n",
       "      <td>595.0</td>\n",
       "    </tr>\n",
       "    <tr>\n",
       "      <th>Roca</th>\n",
       "      <td>2</td>\n",
       "      <td>31</td>\n",
       "      <td>664.0</td>\n",
       "    </tr>\n",
       "    <tr>\n",
       "      <th>...</th>\n",
       "      <td>...</td>\n",
       "      <td>...</td>\n",
       "      <td>...</td>\n",
       "    </tr>\n",
       "    <tr>\n",
       "      <th>Au Bon Coin</th>\n",
       "      <td>1</td>\n",
       "      <td>0</td>\n",
       "      <td>236.0</td>\n",
       "    </tr>\n",
       "    <tr>\n",
       "      <th>Les Trois 8</th>\n",
       "      <td>1</td>\n",
       "      <td>0</td>\n",
       "      <td>787.0</td>\n",
       "    </tr>\n",
       "    <tr>\n",
       "      <th>Leslie Road</th>\n",
       "      <td>1</td>\n",
       "      <td>0</td>\n",
       "      <td>216.0</td>\n",
       "    </tr>\n",
       "    <tr>\n",
       "      <th>Royal Fata</th>\n",
       "      <td>1</td>\n",
       "      <td>0</td>\n",
       "      <td>393.0</td>\n",
       "    </tr>\n",
       "    <tr>\n",
       "      <th>Cimetière du Père Lachaise</th>\n",
       "      <td>1</td>\n",
       "      <td>0</td>\n",
       "      <td>916.0</td>\n",
       "    </tr>\n",
       "  </tbody>\n",
       "</table>\n",
       "<p>444 rows × 3 columns</p>\n",
       "</div>"
      ],
      "text/plain": [
       "                                     name_of_station  free_bikes  \\\n",
       "name                                                               \n",
       "John Viande                                        8          48   \n",
       "L'Orange Bleue                                     4          43   \n",
       "Cité des Sciences et de l'Industrie                4          43   \n",
       "La Maison Bleue                                    7          31   \n",
       "Roca                                               2          31   \n",
       "...                                              ...         ...   \n",
       "Au Bon Coin                                        1           0   \n",
       "Les Trois 8                                        1           0   \n",
       "Leslie Road                                        1           0   \n",
       "Royal Fata                                         1           0   \n",
       "Cimetière du Père Lachaise                         1           0   \n",
       "\n",
       "                                     distance_on_yelp  \n",
       "name                                                   \n",
       "John Viande                                     941.0  \n",
       "L'Orange Bleue                                  997.0  \n",
       "Cité des Sciences et de l'Industrie             927.0  \n",
       "La Maison Bleue                                 595.0  \n",
       "Roca                                            664.0  \n",
       "...                                               ...  \n",
       "Au Bon Coin                                     236.0  \n",
       "Les Trois 8                                     787.0  \n",
       "Leslie Road                                     216.0  \n",
       "Royal Fata                                      393.0  \n",
       "Cimetière du Père Lachaise                      916.0  \n",
       "\n",
       "[444 rows x 3 columns]"
      ]
     },
     "execution_count": 67,
     "metadata": {},
     "output_type": "execute_result"
    }
   ],
   "source": [
    "# removing outliers from  data\n",
    "\n",
    "filtered_group_df=grouping_df['distance_on_yelp']<=1000\n",
    "new_group_df=grouping_df[filtered_group_df]\n",
    "new_group_df"
   ]
  },
  {
   "cell_type": "code",
   "execution_count": 68,
   "metadata": {
    "tags": []
   },
   "outputs": [
    {
     "name": "stderr",
     "output_type": "stream",
     "text": [
      "C:\\Users\\shrut\\anaconda3\\Lib\\site-packages\\seaborn\\axisgrid.py:118: UserWarning: The figure layout has changed to tight\n",
      "  self._figure.tight_layout(*args, **kwargs)\n",
      "C:\\Users\\shrut\\AppData\\Local\\Temp\\ipykernel_1600\\3152617370.py:2: UserWarning: The figure layout has changed to tight\n",
      "  plt.tight_layout()\n"
     ]
    },
    {
     "data": {
      "image/png": "[encoded data removed]",
      "text/plain": [
       "<Figure size 750x750 with 12 Axes>"
      ]
     },
     "metadata": {},
     "output_type": "display_data"
    }
   ],
   "source": [
    "sns.pairplot(new_group_df)\n",
    "plt.tight_layout()\n",
    "plt.savefig(r\"C:\\Users\\shrut\\Documents\\light house labs\\PROJECTS\\Project 2\\ppt.png\")\n",
    "plt.show()\n"
   ]
  },
  {
   "cell_type": "code",
   "execution_count": 71,
   "metadata": {
    "tags": []
   },
   "outputs": [
    {
     "data": {
      "image/png": "[encoded data removed]",
      "text/plain": [
       "<Figure size 640x480 with 1 Axes>"
      ]
     },
     "metadata": {},
     "output_type": "display_data"
    }
   ],
   "source": [
    "sns.scatterplot(data=new_group_df, x='distance_on_yelp', y='name_of_station')\n",
    "plt.savefig(r\"C:\\Users\\shrut\\Documents\\light house labs\\PROJECTS\\Project 2\\ppt.png\")\n",
    "plt.show()"
   ]
  },
  {
   "cell_type": "code",
   "execution_count": 164,
   "metadata": {
    "tags": []
   },
   "outputs": [
    {
     "data": {
      "text/html": [
       "<div>\n",
       "<style scoped>\n",
       "    .dataframe tbody tr th:only-of-type {\n",
       "        vertical-align: middle;\n",
       "    }\n",
       "\n",
       "    .dataframe tbody tr th {\n",
       "        vertical-align: top;\n",
       "    }\n",
       "\n",
       "    .dataframe thead th {\n",
       "        text-align: right;\n",
       "    }\n",
       "</style>\n",
       "<table border=\"1\" class=\"dataframe\">\n",
       "  <thead>\n",
       "    <tr style=\"text-align: right;\">\n",
       "      <th></th>\n",
       "      <th>name_of_station</th>\n",
       "      <th>free_bikes</th>\n",
       "      <th>distance_on_yelp</th>\n",
       "    </tr>\n",
       "  </thead>\n",
       "  <tbody>\n",
       "    <tr>\n",
       "      <th>name_of_station</th>\n",
       "      <td>1.000000</td>\n",
       "      <td>0.637416</td>\n",
       "      <td>0.504799</td>\n",
       "    </tr>\n",
       "    <tr>\n",
       "      <th>free_bikes</th>\n",
       "      <td>0.637416</td>\n",
       "      <td>1.000000</td>\n",
       "      <td>0.453163</td>\n",
       "    </tr>\n",
       "    <tr>\n",
       "      <th>distance_on_yelp</th>\n",
       "      <td>0.504799</td>\n",
       "      <td>0.453163</td>\n",
       "      <td>1.000000</td>\n",
       "    </tr>\n",
       "  </tbody>\n",
       "</table>\n",
       "</div>"
      ],
      "text/plain": [
       "                  name_of_station  free_bikes  distance_on_yelp\n",
       "name_of_station          1.000000    0.637416          0.504799\n",
       "free_bikes               0.637416    1.000000          0.453163\n",
       "distance_on_yelp         0.504799    0.453163          1.000000"
      ]
     },
     "execution_count": 164,
     "metadata": {},
     "output_type": "execute_result"
    }
   ],
   "source": [
    "grouping_df.corr()"
   ]
  },
  {
   "cell_type": "code",
   "execution_count": 165,
   "metadata": {
    "tags": []
   },
   "outputs": [
    {
     "data": {
      "text/html": [
       "<div>\n",
       "<style scoped>\n",
       "    .dataframe tbody tr th:only-of-type {\n",
       "        vertical-align: middle;\n",
       "    }\n",
       "\n",
       "    .dataframe tbody tr th {\n",
       "        vertical-align: top;\n",
       "    }\n",
       "\n",
       "    .dataframe thead th {\n",
       "        text-align: right;\n",
       "    }\n",
       "</style>\n",
       "<table border=\"1\" class=\"dataframe\">\n",
       "  <thead>\n",
       "    <tr style=\"text-align: right;\">\n",
       "      <th></th>\n",
       "      <th>name_of_station</th>\n",
       "      <th>free_bikes</th>\n",
       "      <th>distance_on_yelp</th>\n",
       "    </tr>\n",
       "  </thead>\n",
       "  <tbody>\n",
       "    <tr>\n",
       "      <th>name_of_station</th>\n",
       "      <td>1.00000</td>\n",
       "      <td>0.504750</td>\n",
       "      <td>0.369620</td>\n",
       "    </tr>\n",
       "    <tr>\n",
       "      <th>free_bikes</th>\n",
       "      <td>0.50475</td>\n",
       "      <td>1.000000</td>\n",
       "      <td>0.177047</td>\n",
       "    </tr>\n",
       "    <tr>\n",
       "      <th>distance_on_yelp</th>\n",
       "      <td>0.36962</td>\n",
       "      <td>0.177047</td>\n",
       "      <td>1.000000</td>\n",
       "    </tr>\n",
       "  </tbody>\n",
       "</table>\n",
       "</div>"
      ],
      "text/plain": [
       "                  name_of_station  free_bikes  distance_on_yelp\n",
       "name_of_station           1.00000    0.504750          0.369620\n",
       "free_bikes                0.50475    1.000000          0.177047\n",
       "distance_on_yelp          0.36962    0.177047          1.000000"
      ]
     },
     "execution_count": 165,
     "metadata": {},
     "output_type": "execute_result"
    }
   ],
   "source": [
    "new_group_df.corr()"
   ]
  },
  {
   "cell_type": "markdown",
   "metadata": {},
   "source": [
    "#### We can see that removing those outliers has changed the correlation table and we have established from the visual plotting and the above table that all these columns at the most have a not strong to weak correlation with each other "
   ]
  },
  {
   "cell_type": "markdown",
   "metadata": {},
   "source": [
    "# Database"
   ]
  },
  {
   "cell_type": "markdown",
   "metadata": {},
   "source": [
    "Put all your results in an SQLite3 database (remember, SQLite stores its databases as files in your local machine - make sure to create your database in your project's data/ directory!)"
   ]
  },
  {
   "cell_type": "code",
   "execution_count": 15,
   "metadata": {},
   "outputs": [],
   "source": [
    "# creating a function to establish connection with SQlite\n",
    "def create_connection(path):\n",
    "    \"\"\"\n",
    "    path (string_name.sqlite): the name of the database \n",
    "    returns: connection object\n",
    "    \"\"\"\n",
    "    connection = None\n",
    "    try:\n",
    "        connection = sqlite3.connect(path)\n",
    "        print(\"Connection to SQLite DB successful\")\n",
    "    except Error as e:\n",
    "        print(f\"The error '{e}' occurred\")\n",
    "\n",
    "    return connection"
   ]
  },
  {
   "cell_type": "code",
   "execution_count": 16,
   "metadata": {
    "tags": []
   },
   "outputs": [
    {
     "name": "stdout",
     "output_type": "stream",
     "text": [
      "Connection to SQLite DB successful\n"
     ]
    }
   ],
   "source": [
    "connection = create_connection(\"Paris.db\")"
   ]
  },
  {
   "cell_type": "code",
   "execution_count": 17,
   "metadata": {
    "tags": []
   },
   "outputs": [],
   "source": [
    "# creating a function to execute queries\n",
    "def execute_query(connection, query):\n",
    "    \"\"\"\n",
    "    connection (object) : object returned from the create connection function\n",
    "    query (sql query variable): the operation that you are trying to perfom\n",
    "    \n",
    "    \"\"\"\n",
    "    cursor = connection.cursor()\n",
    "    try:\n",
    "        cursor.execute(query)\n",
    "        connection.commit()\n",
    "        print(\"Query executed successfully\")\n",
    "    except Error as e:\n",
    "        print(f\"The error '{e}' occurred\")\n",
    "    # finally:\n",
    "    #     cursor.close()\n",
    "    #     connection.close()"
   ]
  },
  {
   "cell_type": "markdown",
   "metadata": {},
   "source": [
    "### creating tables for the database"
   ]
  },
  {
   "cell_type": "code",
   "execution_count": 18,
   "metadata": {
    "tags": []
   },
   "outputs": [],
   "source": [
    "create_citybikes_table= \"\"\"\n",
    "CREATE TABLE IF NOT EXISTS city_bikes (\n",
    "name_of_station string NOT NULL,\n",
    "empty_slots integer,\n",
    "free_bikes integer,\n",
    "latitude float NOT NULL,\n",
    "longitude float NOT NULL,\n",
    "timestamp datetime,\n",
    "lat_lon float PRIMARY KEY\n",
    ");\n",
    "\"\"\""
   ]
  },
  {
   "cell_type": "code",
   "execution_count": 23,
   "metadata": {
    "tags": []
   },
   "outputs": [],
   "source": [
    "create_foursq_table=\"\"\"\n",
    "CREATE TABLE IF NOT EXISTS fourSQ_API(\n",
    "lat_lon float,\n",
    "name_of_business string NOT NULL,\n",
    "distance integer NOT NULL,\n",
    "address string NOT NULL,\n",
    "PRIMARY KEY(lat_lon,address)\n",
    ");\n",
    "\"\"\""
   ]
  },
  {
   "cell_type": "code",
   "execution_count": 20,
   "metadata": {
    "tags": []
   },
   "outputs": [],
   "source": [
    "create_yelp_table=\"\"\"\n",
    "CREATE TABLE IF NOT EXISTS yelp_API(\n",
    "lat_lon float ,\n",
    "name string NOT NULL,\n",
    "rating float,\n",
    "reviews integer,\n",
    "price_category string,\n",
    "address string NOT NULL,\n",
    "distance float NOT NULL,\n",
    "PRIMARY KEY(lat_lon,address)\n",
    ");\n",
    "\"\"\""
   ]
  },
  {
   "cell_type": "markdown",
   "metadata": {
    "tags": []
   },
   "source": [
    "### passing the variables through the execute function"
   ]
  },
  {
   "cell_type": "code",
   "execution_count": 21,
   "metadata": {
    "tags": []
   },
   "outputs": [
    {
     "name": "stdout",
     "output_type": "stream",
     "text": [
      "Query executed successfully\n"
     ]
    }
   ],
   "source": [
    "execute_query(connection, create_citybikes_table)"
   ]
  },
  {
   "cell_type": "code",
   "execution_count": 24,
   "metadata": {
    "tags": []
   },
   "outputs": [
    {
     "name": "stdout",
     "output_type": "stream",
     "text": [
      "Query executed successfully\n"
     ]
    }
   ],
   "source": [
    "execute_query(connection, create_foursq_table)"
   ]
  },
  {
   "cell_type": "code",
   "execution_count": 25,
   "metadata": {
    "tags": []
   },
   "outputs": [
    {
     "name": "stdout",
     "output_type": "stream",
     "text": [
      "Query executed successfully\n"
     ]
    }
   ],
   "source": [
    "execute_query(connection, create_yelp_table)"
   ]
  },
  {
   "cell_type": "markdown",
   "metadata": {
    "tags": []
   },
   "source": [
    "### Inserting data into tables"
   ]
  },
  {
   "cell_type": "markdown",
   "metadata": {
    "tags": []
   },
   "source": [
    "#### creating tuples from each data frame and using executemany() to insert multiple records at once and a SQL INSERT INTO command to insert these tuples into the respective table in your database"
   ]
  },
  {
   "cell_type": "code",
   "execution_count": 26,
   "metadata": {},
   "outputs": [
    {
     "data": {
      "text/plain": [
       "9930"
      ]
     },
     "execution_count": 26,
     "metadata": {},
     "output_type": "execute_result"
    }
   ],
   "source": [
    "api_df.to_sql('yelp_API', connection, if_exists='replace', index=False)"
   ]
  },
  {
   "cell_type": "code",
   "execution_count": 32,
   "metadata": {
    "tags": []
   },
   "outputs": [
    {
     "data": {
      "text/plain": [
       "500"
      ]
     },
     "execution_count": 32,
     "metadata": {},
     "output_type": "execute_result"
    }
   ],
   "source": [
    "df_citybikes.to_sql('city_bikes', connection, if_exists='replace', index=False)"
   ]
  },
  {
   "cell_type": "code",
   "execution_count": 33,
   "metadata": {
    "tags": []
   },
   "outputs": [
    {
     "data": {
      "text/plain": [
       "23898"
      ]
     },
     "execution_count": 33,
     "metadata": {},
     "output_type": "execute_result"
    }
   ],
   "source": [
    "four_sq_df.to_sql('fourSQ_API', connection, if_exists='replace', index=False)"
   ]
  },
  {
   "cell_type": "code",
   "execution_count": 27,
   "metadata": {
    "tags": []
   },
   "outputs": [],
   "source": [
    "# function to read the tables from the database\n",
    "def execute_read_query(connection, query):\n",
    "    cursor = connection.cursor()\n",
    "    result = None\n",
    "    try:\n",
    "        cursor.execute(query)\n",
    "        result = cursor.fetchall()\n",
    "        return result\n",
    "    except Error as e:\n",
    "        print(f\"The error '{e}' occurred\")"
   ]
  },
  {
   "cell_type": "markdown",
   "metadata": {},
   "source": [
    "##### to read data from SQL"
   ]
  },
  {
   "cell_type": "code",
   "execution_count": 43,
   "metadata": {
    "tags": []
   },
   "outputs": [
    {
     "name": "stdout",
     "output_type": "stream",
     "text": [
      "('48.865983_2.275725', 'La Coïncidence', 4.5, 509, 2.0, '15 rue Mesnil', 675.0)\n"
     ]
    }
   ],
   "source": [
    "view_data_yelp=\"SELECT * FROM yelp_API LIMIT 1 \"\n",
    "yelp = execute_read_query(connection,view_data_yelp)\n",
    "\n",
    "for datas in yelp:\n",
    "    print(datas)\n"
   ]
  },
  {
   "cell_type": "code",
   "execution_count": 41,
   "metadata": {
    "tags": []
   },
   "outputs": [
    {
     "name": "stdout",
     "output_type": "stream",
     "text": [
      "('48.865983_2.275725', 'Noir - Coffee Shop & Torréfacteur', 411, '32 Rue Gustave Courbet')\n"
     ]
    }
   ],
   "source": [
    "view_data_foursq=\"SELECT * FROM fourSQ_API LIMIT 1 \"\n",
    "foursq = execute_read_query(connection,view_data_foursq)\n",
    "\n",
    "for datas in foursq:\n",
    "    print(datas)"
   ]
  },
  {
   "cell_type": "code",
   "execution_count": 44,
   "metadata": {
    "tags": []
   },
   "outputs": [
    {
     "name": "stdout",
     "output_type": "stream",
     "text": [
      "('48.865983_2.275725', 'Noir - Coffee Shop & Torréfacteur', 411, '32 Rue Gustave Courbet')\n"
     ]
    }
   ],
   "source": [
    "view_data_citybikes=\"SELECT * FROM fourSQ_API LIMIT 1 \"\n",
    "citybikes = execute_read_query(connection,view_data_citybikes)\n",
    "\n",
    "for datas in citybikes:\n",
    "    print(datas)"
   ]
  },
  {
   "cell_type": "markdown",
   "metadata": {},
   "source": [
    "Look at the data before and after the join to validate your data."
   ]
  },
  {
   "cell_type": "code",
   "execution_count": 47,
   "metadata": {},
   "outputs": [
    {
     "data": {
      "text/plain": [
       "name_of_station      0\n",
       "empty_slots          0\n",
       "free_bikes           0\n",
       "latitude             0\n",
       "longitude            0\n",
       "timestamp            0\n",
       "lat&lon              0\n",
       "name                 0\n",
       "rating               0\n",
       "reviews              0\n",
       "price               92\n",
       "address              7\n",
       "distance_on_yelp     0\n",
       "dtype: int64"
      ]
     },
     "execution_count": 47,
     "metadata": {},
     "output_type": "execute_result"
    }
   ],
   "source": [
    "Paris_merged_df.isnull().sum()"
   ]
  },
  {
   "cell_type": "code",
   "execution_count": 49,
   "metadata": {
    "tags": []
   },
   "outputs": [
    {
     "data": {
      "text/plain": [
       "(820, 13)"
      ]
     },
     "execution_count": 49,
     "metadata": {},
     "output_type": "execute_result"
    }
   ],
   "source": [
    "Paris_merged_df.shape"
   ]
  },
  {
   "cell_type": "markdown",
   "metadata": {
    "tags": []
   },
   "source": [
    "##### Validating data before and after joining data is not as simple and usual as a set of coordinates has multiple businesses which increases the number of rows of data after the join. from the above check for nulls I have already addressed the price column, how ever as seen above the nulls in yelp data are a lot more and ones the after the join and cleaning are reduced to a negligible count."
   ]
  },
  {
   "cell_type": "code",
   "execution_count": null,
   "metadata": {},
   "outputs": [],
   "source": []
  }
 ],
 "metadata": {
  "kernelspec": {
   "display_name": "Python 3 (ipykernel)",
   "language": "python",
   "name": "python3"
  },
  "language_info": {
   "codemirror_mode": {
    "name": "ipython",
    "version": 3
   },
   "file_extension": ".py",
   "mimetype": "text/x-python",
   "name": "python",
   "nbconvert_exporter": "python",
   "pygments_lexer": "ipython3",
   "version": "3.11.5"
  }
 },
 "nbformat": 4,
 "nbformat_minor": 4
}
